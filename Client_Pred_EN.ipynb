{
 "cells": [
  {
   "cell_type": "markdown",
   "id": "2639226e-2211-4c04-95b8-627ef6553ec4",
   "metadata": {},
   "source": [
    "# Telecom - ML project "
   ]
  },
  {
   "cell_type": "markdown",
   "id": "34f9598a-2ce0-4685-a08f-40997ffb971c",
   "metadata": {},
   "source": [
    "## Business Task and Work Plan\n"
   ]
  },
  {
   "cell_type": "markdown",
   "id": "05d3798e-6b08-484c-bd52-db1bd3969a66",
   "metadata": {},
   "source": [
    "**Business Task and Work Plan**\n",
    "\n",
    "The telecommunications operator **“TeleDom”** wants to combat customer churn. To address this, the company plans to offer promo codes and special conditions to customers who intend to terminate their contracts. \n",
    "\n",
    "To proactively identify such users, TeleDom needs a model that can predict whether a customer will terminate their contract. The company's team has collected personal data about some customers, as well as information about their plans and services.\n",
    "\n",
    "---\n",
    "\n",
    "**Service Description**\n",
    "The operator provides two main types of services:\n",
    "1. **Landline Telephone Services**:\n",
    "   - The phone can be connected to multiple lines simultaneously.\n",
    "2. **Internet**:\n",
    "   - The connection can be of two types: via a telephone line (**DSL** – Digital Subscriber Line) or fiber optic cable (**Fiber optic**).\n",
    "\n",
    "Additional services include:\n",
    "- **Internet Security**:\n",
    "  - Antivirus software (**DeviceProtection**) and blocking unsafe websites (**OnlineSecurity**).\n",
    "- **Dedicated Technical Support Line** (**TechSupport**).\n",
    "- **Cloud Storage**:\n",
    "  - File backup storage (**OnlineBackup**).\n",
    "- **Streaming Services**:\n",
    "  - Streaming TV (**StreamingTV**) and a movie catalog (**StreamingMovies**).\n",
    "\n",
    "Customers can pay for services on a monthly basis or sign a contract for 1–2 years. Various payment methods are available, along with the option to receive an electronic bill.\n",
    "\n",
    "---\n",
    "\n",
    "**Objective:**\n",
    "The primary goal of the project is to train a model to predict customer churn.\n",
    "\n",
    "---\n",
    "\n",
    "**Criteria:**\n",
    "The target feature is **customer churn** (`churn`).\n",
    "\n",
    "---\n",
    "\n",
    "**Work Plan**:\n",
    "1. **Data Loading**:\n",
    "   - Import datasets for analysis.\n",
    "   - Import libraries.\n",
    "  \n",
    "2. **Data Preprocessing**:\n",
    "   - Clean the data to handle missing values and remove duplicates.\n",
    "   - Convert data types as necessary.\n",
    "   - Merge datasets.\n",
    "\n",
    "3. **Exploratory Data Analysis**:\n",
    "   - Perform correlation analysis.\n",
    "\n",
    "4. **Model Building and Selection**:\n",
    "   - Train and evaluate models to choose the best one.\n",
    "\n",
    "5. **Feature Importance Analysis**:\n",
    "   - Determine the most influential features.\n",
    "\n",
    "6. **Customer Segmentation and Recommendations**:\n",
    "   - Develop customer segmentation strategies and recommendations.\n",
    "\n",
    "7. **Final Conclusions**:\n",
    "   - Summarize the results and key findings.\n",
    "\n",
    "---\n",
    "\n",
    "**Datasets**:\n",
    "\n",
    "1. **contract_new.csv**: Information about contracts.\n",
    "2. **personal_new.csv**: Personal data of customers.\n",
    "3. **internet_new.csv**: Information about internet services.\n",
    "4. **phone_new.csv**: Information about telephony services.\n"
   ]
  },
  {
   "cell_type": "markdown",
   "id": "5b147f2f-4935-4832-b64b-a9cf9e18e435",
   "metadata": {},
   "source": [
    "## Loading Data"
   ]
  },
  {
   "cell_type": "markdown",
   "id": "4299ce0d-2d28-40bb-95ab-d9e56601e05a",
   "metadata": {},
   "source": [
    "### Import Libraries"
   ]
  },
  {
   "cell_type": "code",
   "execution_count": 7,
   "id": "f2028a1c-e777-41ae-89d5-caf718f97abe",
   "metadata": {},
   "outputs": [],
   "source": [
    "!pip install phik -q\n"
   ]
  },
  {
   "cell_type": "code",
   "execution_count": 8,
   "id": "26fae8e3-6c9e-4455-80ac-0f3f4752f1d3",
   "metadata": {},
   "outputs": [],
   "source": [
    "!pip install shap -q\n"
   ]
  },
  {
   "cell_type": "code",
   "execution_count": 9,
   "id": "2580978b-168c-471a-acb6-122c3d115c71",
   "metadata": {},
   "outputs": [],
   "source": [
    "import pandas as pd\n",
    "import matplotlib.pyplot as plt\n",
    "import seaborn as sns\n",
    "import numpy as np\n",
    "import os \n",
    "import phik\n",
    "from phik.report import plot_correlation_matrix\n",
    "\n",
    "from sklearn.pipeline import Pipeline\n",
    "\n",
    "from sklearn.model_selection import train_test_split, cross_val_score\n",
    "\n",
    "from sklearn.preprocessing import (OneHotEncoder,  \n",
    "                                   StandardScaler,\n",
    "                                   MinMaxScaler\n",
    "                                   )\n",
    "\n",
    "from sklearn.model_selection import  RandomizedSearchCV\n",
    "\n",
    "from sklearn.compose import ColumnTransformer\n",
    "\n",
    "from sklearn.impute import SimpleImputer\n",
    "\n",
    "from sklearn.linear_model import LogisticRegression\n",
    "from sklearn.tree import DecisionTreeClassifier\n",
    "from sklearn.ensemble import RandomForestClassifier\n",
    "from lightgbm import LGBMClassifier\n",
    "\n",
    "from statsmodels.stats.outliers_influence import variance_inflation_factor\n",
    "\n",
    "from sklearn.metrics import (\n",
    "                confusion_matrix,\n",
    "                 roc_auc_score\n",
    "             ) \n",
    "import shap\n",
    "import warnings\n",
    "warnings.filterwarnings(\"ignore\", message=\".*keepdims.*\", category=FutureWarning)"
   ]
  },
  {
   "cell_type": "markdown",
   "id": "79fcd108-8edb-47b5-bf37-449fdf72f5fb",
   "metadata": {},
   "source": [
    "### Constants"
   ]
  },
  {
   "cell_type": "code",
   "execution_count": 11,
   "id": "ed5d7727-ebb0-4fed-b92f-c4f899d373b8",
   "metadata": {},
   "outputs": [],
   "source": [
    "RANDOM_STATE = 251124\n",
    "TEST_SIZE = 0.25"
   ]
  },
  {
   "cell_type": "markdown",
   "id": "fae80af9-579f-4f9d-9b52-d24a24628a16",
   "metadata": {},
   "source": [
    "### Import Datasets"
   ]
  },
  {
   "cell_type": "code",
   "execution_count": 13,
   "id": "3d5b1abf-fe2b-47d8-88d6-aaa2cadb9278",
   "metadata": {},
   "outputs": [],
   "source": [
    "# contract info \n",
    "pth1_contract = 'contract_new.csv'\n",
    "pth2_contract = '/datasets/contract_new.csv'\n",
    "\n",
    "# clinet personal info \n",
    "pth1_personal = 'personal_new.csv'\n",
    "pth2_personal = '/datasets/personal_new.csv'\n",
    "\n",
    "# internet services info \n",
    "pth1_internet = 'internet_new.csv'\n",
    "pth2_internet = '/datasets/internet_new.csv'\n",
    "\n",
    "# phone services info \n",
    "pth1_phone = 'phone_new.csv'\n",
    "pth2_phone = '/datasets/phone_new.csv'\n",
    "\n",
    "# reading files \n",
    "if os.path.exists(pth1_contract):\n",
    "    df_contract = pd.read_csv(pth1_contract)\n",
    "elif os.path.exists(pth2_contract):\n",
    "    df_contract = pd.read_csv(pth2_contract)\n",
    "else:\n",
    "    print('Something is wrong with contract_new.csv')\n",
    "\n",
    "if os.path.exists(pth1_personal):\n",
    "    df_personal = pd.read_csv(pth1_personal)\n",
    "elif os.path.exists(pth2_personal):\n",
    "    df_personal = pd.read_csv(pth2_personal)\n",
    "else:\n",
    "    print('Something is wrong with personal_new.csv')\n",
    "\n",
    "if os.path.exists(pth1_internet):\n",
    "    df_internet = pd.read_csv(pth1_internet)\n",
    "elif os.path.exists(pth2_internet):\n",
    "    df_internet = pd.read_csv(pth2_internet)\n",
    "else:\n",
    "    print('Something is wrong with internet_new.csv')\n",
    "\n",
    "\n",
    "if os.path.exists(pth1_phone):\n",
    "    df_phone = pd.read_csv(pth1_phone)\n",
    "elif os.path.exists(pth2_phone):\n",
    "    df_phone = pd.read_csv(pth2_phone)\n",
    "else:\n",
    "    print('Something is wrong with phone_new.csv')\n"
   ]
  },
  {
   "cell_type": "markdown",
   "id": "5d1ce7c8-1d8a-4bb4-9457-eaa5eaac8ea1",
   "metadata": {},
   "source": [
    "### Initial Data Inspection"
   ]
  },
  {
   "cell_type": "markdown",
   "id": "c9535183-9e4e-455d-ba1f-e33a5788df38",
   "metadata": {},
   "source": [
    "Let's Examine the Dataset: contract_new.csv"
   ]
  },
  {
   "cell_type": "code",
   "execution_count": 16,
   "id": "a0575aee-a75a-4a0b-8c2f-cdbc9e8fbbed",
   "metadata": {},
   "outputs": [
    {
     "data": {
      "text/html": [
       "<div>\n",
       "<style scoped>\n",
       "    .dataframe tbody tr th:only-of-type {\n",
       "        vertical-align: middle;\n",
       "    }\n",
       "\n",
       "    .dataframe tbody tr th {\n",
       "        vertical-align: top;\n",
       "    }\n",
       "\n",
       "    .dataframe thead th {\n",
       "        text-align: right;\n",
       "    }\n",
       "</style>\n",
       "<table border=\"1\" class=\"dataframe\">\n",
       "  <thead>\n",
       "    <tr style=\"text-align: right;\">\n",
       "      <th></th>\n",
       "      <th>customerID</th>\n",
       "      <th>BeginDate</th>\n",
       "      <th>EndDate</th>\n",
       "      <th>Type</th>\n",
       "      <th>PaperlessBilling</th>\n",
       "      <th>PaymentMethod</th>\n",
       "      <th>MonthlyCharges</th>\n",
       "      <th>TotalCharges</th>\n",
       "    </tr>\n",
       "  </thead>\n",
       "  <tbody>\n",
       "    <tr>\n",
       "      <th>0</th>\n",
       "      <td>7590-VHVEG</td>\n",
       "      <td>2020-01-01</td>\n",
       "      <td>No</td>\n",
       "      <td>Month-to-month</td>\n",
       "      <td>Yes</td>\n",
       "      <td>Electronic check</td>\n",
       "      <td>29.85</td>\n",
       "      <td>31.04</td>\n",
       "    </tr>\n",
       "    <tr>\n",
       "      <th>1</th>\n",
       "      <td>5575-GNVDE</td>\n",
       "      <td>2017-04-01</td>\n",
       "      <td>No</td>\n",
       "      <td>One year</td>\n",
       "      <td>No</td>\n",
       "      <td>Mailed check</td>\n",
       "      <td>56.95</td>\n",
       "      <td>2071.84</td>\n",
       "    </tr>\n",
       "  </tbody>\n",
       "</table>\n",
       "</div>"
      ],
      "text/plain": [
       "   customerID   BeginDate EndDate            Type PaperlessBilling  \\\n",
       "0  7590-VHVEG  2020-01-01      No  Month-to-month              Yes   \n",
       "1  5575-GNVDE  2017-04-01      No        One year               No   \n",
       "\n",
       "      PaymentMethod  MonthlyCharges TotalCharges  \n",
       "0  Electronic check           29.85        31.04  \n",
       "1      Mailed check           56.95      2071.84  "
      ]
     },
     "execution_count": 16,
     "metadata": {},
     "output_type": "execute_result"
    }
   ],
   "source": [
    "df_contract.head(2)"
   ]
  },
  {
   "cell_type": "markdown",
   "id": "1d46931a-860f-48ae-b229-01a6bde6667f",
   "metadata": {},
   "source": [
    "Convert to lowercase and rename the columns"
   ]
  },
  {
   "cell_type": "code",
   "execution_count": 18,
   "id": "9fb31984-fdb8-426c-af96-0b5046398eca",
   "metadata": {},
   "outputs": [],
   "source": [
    "df_contract.columns = df_contract.columns.str.lower()"
   ]
  },
  {
   "cell_type": "code",
   "execution_count": 19,
   "id": "d23f307a-7086-4488-8751-97dacee45d55",
   "metadata": {},
   "outputs": [
    {
     "data": {
      "text/html": [
       "<div>\n",
       "<style scoped>\n",
       "    .dataframe tbody tr th:only-of-type {\n",
       "        vertical-align: middle;\n",
       "    }\n",
       "\n",
       "    .dataframe tbody tr th {\n",
       "        vertical-align: top;\n",
       "    }\n",
       "\n",
       "    .dataframe thead th {\n",
       "        text-align: right;\n",
       "    }\n",
       "</style>\n",
       "<table border=\"1\" class=\"dataframe\">\n",
       "  <thead>\n",
       "    <tr style=\"text-align: right;\">\n",
       "      <th></th>\n",
       "      <th>customer_id</th>\n",
       "      <th>begin_date</th>\n",
       "      <th>end_date</th>\n",
       "      <th>type</th>\n",
       "      <th>paperless_billing</th>\n",
       "      <th>payment_method</th>\n",
       "      <th>monthly_charges</th>\n",
       "      <th>total_charges</th>\n",
       "    </tr>\n",
       "  </thead>\n",
       "  <tbody>\n",
       "    <tr>\n",
       "      <th>0</th>\n",
       "      <td>7590-VHVEG</td>\n",
       "      <td>2020-01-01</td>\n",
       "      <td>No</td>\n",
       "      <td>Month-to-month</td>\n",
       "      <td>Yes</td>\n",
       "      <td>Electronic check</td>\n",
       "      <td>29.85</td>\n",
       "      <td>31.04</td>\n",
       "    </tr>\n",
       "  </tbody>\n",
       "</table>\n",
       "</div>"
      ],
      "text/plain": [
       "  customer_id  begin_date end_date            type paperless_billing  \\\n",
       "0  7590-VHVEG  2020-01-01       No  Month-to-month               Yes   \n",
       "\n",
       "     payment_method  monthly_charges total_charges  \n",
       "0  Electronic check            29.85         31.04  "
      ]
     },
     "execution_count": 19,
     "metadata": {},
     "output_type": "execute_result"
    }
   ],
   "source": [
    "df_contract = df_contract.rename(columns=\n",
    "                                     {'customerid': 'customer_id',\n",
    "                                      'begindate': 'begin_date',\n",
    "                                      'enddate': 'end_date', \n",
    "                                      'paperlessbilling': 'paperless_billing',\n",
    "                                      'paymentmethod': 'payment_method',\n",
    "                                      'monthlycharges': 'monthly_charges',\n",
    "                                      'totalcharges': 'total_charges'}) \n",
    "df_contract.head(1)"
   ]
  },
  {
   "cell_type": "markdown",
   "id": "8f9e5505-ee1b-4814-9bd9-291decff6e35",
   "metadata": {},
   "source": [
    "Next examine the dataset personal_new.csv"
   ]
  },
  {
   "cell_type": "code",
   "execution_count": 21,
   "id": "e2cd28a6-cca5-450c-ba57-740ba1fd6917",
   "metadata": {},
   "outputs": [
    {
     "data": {
      "text/html": [
       "<div>\n",
       "<style scoped>\n",
       "    .dataframe tbody tr th:only-of-type {\n",
       "        vertical-align: middle;\n",
       "    }\n",
       "\n",
       "    .dataframe tbody tr th {\n",
       "        vertical-align: top;\n",
       "    }\n",
       "\n",
       "    .dataframe thead th {\n",
       "        text-align: right;\n",
       "    }\n",
       "</style>\n",
       "<table border=\"1\" class=\"dataframe\">\n",
       "  <thead>\n",
       "    <tr style=\"text-align: right;\">\n",
       "      <th></th>\n",
       "      <th>customerID</th>\n",
       "      <th>gender</th>\n",
       "      <th>SeniorCitizen</th>\n",
       "      <th>Partner</th>\n",
       "      <th>Dependents</th>\n",
       "    </tr>\n",
       "  </thead>\n",
       "  <tbody>\n",
       "    <tr>\n",
       "      <th>0</th>\n",
       "      <td>7590-VHVEG</td>\n",
       "      <td>Female</td>\n",
       "      <td>0</td>\n",
       "      <td>Yes</td>\n",
       "      <td>No</td>\n",
       "    </tr>\n",
       "    <tr>\n",
       "      <th>1</th>\n",
       "      <td>5575-GNVDE</td>\n",
       "      <td>Male</td>\n",
       "      <td>0</td>\n",
       "      <td>No</td>\n",
       "      <td>No</td>\n",
       "    </tr>\n",
       "  </tbody>\n",
       "</table>\n",
       "</div>"
      ],
      "text/plain": [
       "   customerID  gender  SeniorCitizen Partner Dependents\n",
       "0  7590-VHVEG  Female              0     Yes         No\n",
       "1  5575-GNVDE    Male              0      No         No"
      ]
     },
     "execution_count": 21,
     "metadata": {},
     "output_type": "execute_result"
    }
   ],
   "source": [
    "df_personal.head(2)"
   ]
  },
  {
   "cell_type": "markdown",
   "id": "e117fc9d-c890-47fe-93ea-9bd46b1427d0",
   "metadata": {},
   "source": [
    "Convert to lowercase and rename the columns"
   ]
  },
  {
   "cell_type": "code",
   "execution_count": 23,
   "id": "16e7227a-b8fd-4444-9098-0152e64be40b",
   "metadata": {},
   "outputs": [],
   "source": [
    "df_personal.columns = df_personal.columns.str.lower()"
   ]
  },
  {
   "cell_type": "code",
   "execution_count": 24,
   "id": "7056ce3b-85b5-42b5-9889-56f4d4881c7a",
   "metadata": {},
   "outputs": [
    {
     "data": {
      "text/html": [
       "<div>\n",
       "<style scoped>\n",
       "    .dataframe tbody tr th:only-of-type {\n",
       "        vertical-align: middle;\n",
       "    }\n",
       "\n",
       "    .dataframe tbody tr th {\n",
       "        vertical-align: top;\n",
       "    }\n",
       "\n",
       "    .dataframe thead th {\n",
       "        text-align: right;\n",
       "    }\n",
       "</style>\n",
       "<table border=\"1\" class=\"dataframe\">\n",
       "  <thead>\n",
       "    <tr style=\"text-align: right;\">\n",
       "      <th></th>\n",
       "      <th>customer_id</th>\n",
       "      <th>gender</th>\n",
       "      <th>senior_citizen</th>\n",
       "      <th>partner</th>\n",
       "      <th>dependents</th>\n",
       "    </tr>\n",
       "  </thead>\n",
       "  <tbody>\n",
       "    <tr>\n",
       "      <th>0</th>\n",
       "      <td>7590-VHVEG</td>\n",
       "      <td>Female</td>\n",
       "      <td>0</td>\n",
       "      <td>Yes</td>\n",
       "      <td>No</td>\n",
       "    </tr>\n",
       "  </tbody>\n",
       "</table>\n",
       "</div>"
      ],
      "text/plain": [
       "  customer_id  gender  senior_citizen partner dependents\n",
       "0  7590-VHVEG  Female               0     Yes         No"
      ]
     },
     "execution_count": 24,
     "metadata": {},
     "output_type": "execute_result"
    }
   ],
   "source": [
    "df_personal = df_personal.rename(columns=\n",
    "                                     {'customerid': 'customer_id',\n",
    "                                      'seniorcitizen': 'senior_citizen'}) \n",
    "df_personal.head(1)"
   ]
  },
  {
   "cell_type": "markdown",
   "id": "cb09680a-09b9-4a84-a2f4-2d7615f4f9df",
   "metadata": {},
   "source": [
    "Examine the dataset internet_new.csv"
   ]
  },
  {
   "cell_type": "code",
   "execution_count": 26,
   "id": "5f8506bd-13c0-485d-ae5d-6a294f9aa717",
   "metadata": {},
   "outputs": [
    {
     "data": {
      "text/html": [
       "<div>\n",
       "<style scoped>\n",
       "    .dataframe tbody tr th:only-of-type {\n",
       "        vertical-align: middle;\n",
       "    }\n",
       "\n",
       "    .dataframe tbody tr th {\n",
       "        vertical-align: top;\n",
       "    }\n",
       "\n",
       "    .dataframe thead th {\n",
       "        text-align: right;\n",
       "    }\n",
       "</style>\n",
       "<table border=\"1\" class=\"dataframe\">\n",
       "  <thead>\n",
       "    <tr style=\"text-align: right;\">\n",
       "      <th></th>\n",
       "      <th>customerID</th>\n",
       "      <th>InternetService</th>\n",
       "      <th>OnlineSecurity</th>\n",
       "      <th>OnlineBackup</th>\n",
       "      <th>DeviceProtection</th>\n",
       "      <th>TechSupport</th>\n",
       "      <th>StreamingTV</th>\n",
       "      <th>StreamingMovies</th>\n",
       "    </tr>\n",
       "  </thead>\n",
       "  <tbody>\n",
       "    <tr>\n",
       "      <th>0</th>\n",
       "      <td>7590-VHVEG</td>\n",
       "      <td>DSL</td>\n",
       "      <td>No</td>\n",
       "      <td>Yes</td>\n",
       "      <td>No</td>\n",
       "      <td>No</td>\n",
       "      <td>No</td>\n",
       "      <td>No</td>\n",
       "    </tr>\n",
       "    <tr>\n",
       "      <th>1</th>\n",
       "      <td>5575-GNVDE</td>\n",
       "      <td>DSL</td>\n",
       "      <td>Yes</td>\n",
       "      <td>No</td>\n",
       "      <td>Yes</td>\n",
       "      <td>No</td>\n",
       "      <td>No</td>\n",
       "      <td>No</td>\n",
       "    </tr>\n",
       "  </tbody>\n",
       "</table>\n",
       "</div>"
      ],
      "text/plain": [
       "   customerID InternetService OnlineSecurity OnlineBackup DeviceProtection  \\\n",
       "0  7590-VHVEG             DSL             No          Yes               No   \n",
       "1  5575-GNVDE             DSL            Yes           No              Yes   \n",
       "\n",
       "  TechSupport StreamingTV StreamingMovies  \n",
       "0          No          No              No  \n",
       "1          No          No              No  "
      ]
     },
     "execution_count": 26,
     "metadata": {},
     "output_type": "execute_result"
    }
   ],
   "source": [
    "df_internet.head(2)"
   ]
  },
  {
   "cell_type": "markdown",
   "id": "5c3a182e-4a24-4d2e-9e84-9cf2f8471573",
   "metadata": {},
   "source": [
    "Convert to lowercase and rename the columns"
   ]
  },
  {
   "cell_type": "code",
   "execution_count": 28,
   "id": "d645ca4c-b8d3-43c1-b791-448080a3a61b",
   "metadata": {},
   "outputs": [],
   "source": [
    "df_internet.columns = df_internet.columns.str.lower()"
   ]
  },
  {
   "cell_type": "code",
   "execution_count": 29,
   "id": "d4cc254f-1375-408a-bd57-169c93cb1d65",
   "metadata": {},
   "outputs": [
    {
     "data": {
      "text/html": [
       "<div>\n",
       "<style scoped>\n",
       "    .dataframe tbody tr th:only-of-type {\n",
       "        vertical-align: middle;\n",
       "    }\n",
       "\n",
       "    .dataframe tbody tr th {\n",
       "        vertical-align: top;\n",
       "    }\n",
       "\n",
       "    .dataframe thead th {\n",
       "        text-align: right;\n",
       "    }\n",
       "</style>\n",
       "<table border=\"1\" class=\"dataframe\">\n",
       "  <thead>\n",
       "    <tr style=\"text-align: right;\">\n",
       "      <th></th>\n",
       "      <th>customer_id</th>\n",
       "      <th>internet_service</th>\n",
       "      <th>online_security</th>\n",
       "      <th>online_backup</th>\n",
       "      <th>device_protection</th>\n",
       "      <th>tech_support</th>\n",
       "      <th>streaming_tv</th>\n",
       "      <th>streaming_movies</th>\n",
       "    </tr>\n",
       "  </thead>\n",
       "  <tbody>\n",
       "    <tr>\n",
       "      <th>0</th>\n",
       "      <td>7590-VHVEG</td>\n",
       "      <td>DSL</td>\n",
       "      <td>No</td>\n",
       "      <td>Yes</td>\n",
       "      <td>No</td>\n",
       "      <td>No</td>\n",
       "      <td>No</td>\n",
       "      <td>No</td>\n",
       "    </tr>\n",
       "  </tbody>\n",
       "</table>\n",
       "</div>"
      ],
      "text/plain": [
       "  customer_id internet_service online_security online_backup  \\\n",
       "0  7590-VHVEG              DSL              No           Yes   \n",
       "\n",
       "  device_protection tech_support streaming_tv streaming_movies  \n",
       "0                No           No           No               No  "
      ]
     },
     "execution_count": 29,
     "metadata": {},
     "output_type": "execute_result"
    }
   ],
   "source": [
    "df_internet = df_internet.rename(columns=\n",
    "                                     {'customerid': 'customer_id',\n",
    "                                      'internetservice': 'internet_service',\n",
    "                                      'onlinesecurity': 'online_security', \n",
    "                                      'onlinebackup': 'online_backup',\n",
    "                                      'deviceprotection': 'device_protection',\n",
    "                                      'techsupport': 'tech_support',\n",
    "                                      'streamingtv': 'streaming_tv',\n",
    "                                       'streamingmovies' : 'streaming_movies'}) \n",
    "df_internet.head(1)"
   ]
  },
  {
   "cell_type": "markdown",
   "id": "d833a5da-eb5f-416b-84af-0a81bf3fdb05",
   "metadata": {},
   "source": [
    "Examine the last dataset phone_new.csv"
   ]
  },
  {
   "cell_type": "code",
   "execution_count": 31,
   "id": "d7a79bbe-0bd4-45e2-b1f5-0af69d12e477",
   "metadata": {},
   "outputs": [
    {
     "data": {
      "text/html": [
       "<div>\n",
       "<style scoped>\n",
       "    .dataframe tbody tr th:only-of-type {\n",
       "        vertical-align: middle;\n",
       "    }\n",
       "\n",
       "    .dataframe tbody tr th {\n",
       "        vertical-align: top;\n",
       "    }\n",
       "\n",
       "    .dataframe thead th {\n",
       "        text-align: right;\n",
       "    }\n",
       "</style>\n",
       "<table border=\"1\" class=\"dataframe\">\n",
       "  <thead>\n",
       "    <tr style=\"text-align: right;\">\n",
       "      <th></th>\n",
       "      <th>customerID</th>\n",
       "      <th>MultipleLines</th>\n",
       "    </tr>\n",
       "  </thead>\n",
       "  <tbody>\n",
       "    <tr>\n",
       "      <th>0</th>\n",
       "      <td>5575-GNVDE</td>\n",
       "      <td>No</td>\n",
       "    </tr>\n",
       "    <tr>\n",
       "      <th>1</th>\n",
       "      <td>3668-QPYBK</td>\n",
       "      <td>No</td>\n",
       "    </tr>\n",
       "  </tbody>\n",
       "</table>\n",
       "</div>"
      ],
      "text/plain": [
       "   customerID MultipleLines\n",
       "0  5575-GNVDE            No\n",
       "1  3668-QPYBK            No"
      ]
     },
     "execution_count": 31,
     "metadata": {},
     "output_type": "execute_result"
    }
   ],
   "source": [
    "df_phone.head(2)"
   ]
  },
  {
   "cell_type": "markdown",
   "id": "58107b94-694f-482d-ab2c-ab602a105ca9",
   "metadata": {},
   "source": [
    "Convert to lowercase and rename the columns"
   ]
  },
  {
   "cell_type": "code",
   "execution_count": 33,
   "id": "336c2f28-9b48-437e-85cf-81f124e72028",
   "metadata": {},
   "outputs": [],
   "source": [
    "df_phone.columns = df_phone.columns.str.lower()"
   ]
  },
  {
   "cell_type": "code",
   "execution_count": 34,
   "id": "a9032713-0b5a-45ca-9eac-399a21256233",
   "metadata": {},
   "outputs": [
    {
     "data": {
      "text/html": [
       "<div>\n",
       "<style scoped>\n",
       "    .dataframe tbody tr th:only-of-type {\n",
       "        vertical-align: middle;\n",
       "    }\n",
       "\n",
       "    .dataframe tbody tr th {\n",
       "        vertical-align: top;\n",
       "    }\n",
       "\n",
       "    .dataframe thead th {\n",
       "        text-align: right;\n",
       "    }\n",
       "</style>\n",
       "<table border=\"1\" class=\"dataframe\">\n",
       "  <thead>\n",
       "    <tr style=\"text-align: right;\">\n",
       "      <th></th>\n",
       "      <th>customer_id</th>\n",
       "      <th>multiple_lines</th>\n",
       "    </tr>\n",
       "  </thead>\n",
       "  <tbody>\n",
       "    <tr>\n",
       "      <th>0</th>\n",
       "      <td>5575-GNVDE</td>\n",
       "      <td>No</td>\n",
       "    </tr>\n",
       "  </tbody>\n",
       "</table>\n",
       "</div>"
      ],
      "text/plain": [
       "  customer_id multiple_lines\n",
       "0  5575-GNVDE             No"
      ]
     },
     "execution_count": 34,
     "metadata": {},
     "output_type": "execute_result"
    }
   ],
   "source": [
    "df_phone = phone = df_phone.rename(columns=\n",
    "                                     {'customerid': 'customer_id',\n",
    "                                      'multiplelines': 'multiple_lines'}) \n",
    "df_phone.head(1)"
   ]
  },
  {
   "cell_type": "markdown",
   "id": "2cb4b424-12f0-4c49-87b9-2384feeeb92a",
   "metadata": {},
   "source": [
    "## Exploratory Data Analysis and Data Preprocessing"
   ]
  },
  {
   "cell_type": "markdown",
   "id": "9e594419-990d-49b6-b67c-8364e2c70ae0",
   "metadata": {},
   "source": [
    "### Dataset contract_new.csv"
   ]
  },
  {
   "cell_type": "markdown",
   "id": "cbfd32a1-f20d-48cc-8594-f822e9524b8e",
   "metadata": {},
   "source": [
    "#### Data Preprocessing "
   ]
  },
  {
   "cell_type": "code",
   "execution_count": 38,
   "id": "80351e43-950e-45ae-8bfe-a8c8edeaba4e",
   "metadata": {},
   "outputs": [
    {
     "data": {
      "text/html": [
       "<div>\n",
       "<style scoped>\n",
       "    .dataframe tbody tr th:only-of-type {\n",
       "        vertical-align: middle;\n",
       "    }\n",
       "\n",
       "    .dataframe tbody tr th {\n",
       "        vertical-align: top;\n",
       "    }\n",
       "\n",
       "    .dataframe thead th {\n",
       "        text-align: right;\n",
       "    }\n",
       "</style>\n",
       "<table border=\"1\" class=\"dataframe\">\n",
       "  <thead>\n",
       "    <tr style=\"text-align: right;\">\n",
       "      <th></th>\n",
       "      <th>customer_id</th>\n",
       "      <th>begin_date</th>\n",
       "      <th>end_date</th>\n",
       "      <th>type</th>\n",
       "      <th>paperless_billing</th>\n",
       "      <th>payment_method</th>\n",
       "      <th>monthly_charges</th>\n",
       "      <th>total_charges</th>\n",
       "    </tr>\n",
       "  </thead>\n",
       "  <tbody>\n",
       "    <tr>\n",
       "      <th>0</th>\n",
       "      <td>7590-VHVEG</td>\n",
       "      <td>2020-01-01</td>\n",
       "      <td>No</td>\n",
       "      <td>Month-to-month</td>\n",
       "      <td>Yes</td>\n",
       "      <td>Electronic check</td>\n",
       "      <td>29.85</td>\n",
       "      <td>31.04</td>\n",
       "    </tr>\n",
       "    <tr>\n",
       "      <th>1</th>\n",
       "      <td>5575-GNVDE</td>\n",
       "      <td>2017-04-01</td>\n",
       "      <td>No</td>\n",
       "      <td>One year</td>\n",
       "      <td>No</td>\n",
       "      <td>Mailed check</td>\n",
       "      <td>56.95</td>\n",
       "      <td>2071.84</td>\n",
       "    </tr>\n",
       "    <tr>\n",
       "      <th>2</th>\n",
       "      <td>3668-QPYBK</td>\n",
       "      <td>2019-10-01</td>\n",
       "      <td>No</td>\n",
       "      <td>Month-to-month</td>\n",
       "      <td>Yes</td>\n",
       "      <td>Mailed check</td>\n",
       "      <td>53.85</td>\n",
       "      <td>226.17</td>\n",
       "    </tr>\n",
       "  </tbody>\n",
       "</table>\n",
       "</div>"
      ],
      "text/plain": [
       "  customer_id  begin_date end_date            type paperless_billing  \\\n",
       "0  7590-VHVEG  2020-01-01       No  Month-to-month               Yes   \n",
       "1  5575-GNVDE  2017-04-01       No        One year                No   \n",
       "2  3668-QPYBK  2019-10-01       No  Month-to-month               Yes   \n",
       "\n",
       "     payment_method  monthly_charges total_charges  \n",
       "0  Electronic check            29.85         31.04  \n",
       "1      Mailed check            56.95       2071.84  \n",
       "2      Mailed check            53.85        226.17  "
      ]
     },
     "execution_count": 38,
     "metadata": {},
     "output_type": "execute_result"
    }
   ],
   "source": [
    "df_contract.head(3)"
   ]
  },
  {
   "cell_type": "code",
   "execution_count": 39,
   "id": "651eb830-15e7-4f3e-99d2-13479801dc1f",
   "metadata": {},
   "outputs": [
    {
     "name": "stdout",
     "output_type": "stream",
     "text": [
      "<class 'pandas.core.frame.DataFrame'>\n",
      "RangeIndex: 7043 entries, 0 to 7042\n",
      "Data columns (total 8 columns):\n",
      " #   Column             Non-Null Count  Dtype  \n",
      "---  ------             --------------  -----  \n",
      " 0   customer_id        7043 non-null   object \n",
      " 1   begin_date         7043 non-null   object \n",
      " 2   end_date           7043 non-null   object \n",
      " 3   type               7043 non-null   object \n",
      " 4   paperless_billing  7043 non-null   object \n",
      " 5   payment_method     7043 non-null   object \n",
      " 6   monthly_charges    7043 non-null   float64\n",
      " 7   total_charges      7043 non-null   object \n",
      "dtypes: float64(1), object(7)\n",
      "memory usage: 440.3+ KB\n"
     ]
    }
   ],
   "source": [
    "df_contract.info()"
   ]
  },
  {
   "cell_type": "markdown",
   "id": "f2c77053-96d1-4e8e-8470-2295555239f6",
   "metadata": {},
   "source": [
    "Now we conduct examination for explicit duplicate entries"
   ]
  },
  {
   "cell_type": "code",
   "execution_count": 41,
   "id": "8fef4053-231c-461d-b146-f74d9285c03c",
   "metadata": {},
   "outputs": [
    {
     "name": "stdout",
     "output_type": "stream",
     "text": [
      "0\n"
     ]
    }
   ],
   "source": [
    "print(df_contract.duplicated().sum())"
   ]
  },
  {
   "cell_type": "markdown",
   "id": "ca69398a-d375-4ebc-aabc-eea5ccd51f25",
   "metadata": {},
   "source": [
    "Check the missing values "
   ]
  },
  {
   "cell_type": "code",
   "execution_count": 43,
   "id": "28386112-392a-4f69-9b10-ba5ba08b438e",
   "metadata": {},
   "outputs": [
    {
     "name": "stdout",
     "output_type": "stream",
     "text": [
      "customer_id          0\n",
      "begin_date           0\n",
      "end_date             0\n",
      "type                 0\n",
      "paperless_billing    0\n",
      "payment_method       0\n",
      "monthly_charges      0\n",
      "total_charges        0\n",
      "dtype: int64\n"
     ]
    }
   ],
   "source": [
    "missing_values = df_contract.isnull().sum()\n",
    "print(missing_values)"
   ]
  },
  {
   "cell_type": "markdown",
   "id": "1b610c31-7bea-4a87-ba50-045c8a377e9b",
   "metadata": {},
   "source": [
    "Empty values `\" \"` were detected in the `total_charges` column instead of `NaN`. These values will be replaced with `NaN`"
   ]
  },
  {
   "cell_type": "code",
   "execution_count": 45,
   "id": "9f5e8a96-588b-4df9-a9d3-66cce1cb8e8e",
   "metadata": {},
   "outputs": [],
   "source": [
    "df_contract['total_charges'] = df_contract['total_charges'].replace(\" \", np.nan)"
   ]
  },
  {
   "cell_type": "markdown",
   "id": "90aeddea-27e0-4069-99f3-e537d2bfb619",
   "metadata": {},
   "source": [
    "The `total_charges` column can now be converted to the `float64` format"
   ]
  },
  {
   "cell_type": "code",
   "execution_count": 47,
   "id": "2db63461-6dd8-49bc-b72e-1eca141c4ddd",
   "metadata": {},
   "outputs": [
    {
     "name": "stdout",
     "output_type": "stream",
     "text": [
      "customer_id           object\n",
      "begin_date            object\n",
      "end_date              object\n",
      "type                  object\n",
      "paperless_billing     object\n",
      "payment_method        object\n",
      "monthly_charges      float64\n",
      "total_charges        float64\n",
      "dtype: object\n"
     ]
    }
   ],
   "source": [
    "df_contract['total_charges'] = pd.to_numeric(df_contract['total_charges'])\n",
    "print(df_contract.dtypes)"
   ]
  },
  {
   "cell_type": "markdown",
   "id": "bc3c50b8-d25b-4617-9397-b37068c451af",
   "metadata": {},
   "source": [
    "We will also convert the `begin_date` column to the `datetime` format"
   ]
  },
  {
   "cell_type": "code",
   "execution_count": 49,
   "id": "14ca4fb4-555a-48bd-a4c0-a4763f8ab50e",
   "metadata": {},
   "outputs": [],
   "source": [
    "df_contract['begin_date'] = pd.to_datetime(df_contract['begin_date'])"
   ]
  },
  {
   "cell_type": "markdown",
   "id": "b33f6a1a-b436-4d41-aa16-ef34af5db202",
   "metadata": {},
   "source": [
    "**Analysis:**\n",
    "- The dataset contains 7043 observations and 7 features, plus `customer_id`.\n",
    "- No explicit missing values were detected, but the column contained `\" \"` values, which were replaced with `NaN`.\n",
    "- Duplicate entries were checked and none were found.\n",
    "- The columns `begin_date` and `total_charges` were converted to the appropriate formats."
   ]
  },
  {
   "cell_type": "markdown",
   "id": "7dfeeb12-b083-420f-84ab-a91292d4af07",
   "metadata": {},
   "source": [
    "#### Exploratory Data Analysis"
   ]
  },
  {
   "cell_type": "markdown",
   "id": "a8261294-c4d6-4dea-bb13-82da0855d86f",
   "metadata": {},
   "source": [
    "Let us start with the analysis of quantitative features by examining the general statistical indicators of `df_contract`"
   ]
  },
  {
   "cell_type": "code",
   "execution_count": 53,
   "id": "4cbb604a-593f-4675-b9c3-7a2b8c64b413",
   "metadata": {},
   "outputs": [
    {
     "data": {
      "text/html": [
       "<div>\n",
       "<style scoped>\n",
       "    .dataframe tbody tr th:only-of-type {\n",
       "        vertical-align: middle;\n",
       "    }\n",
       "\n",
       "    .dataframe tbody tr th {\n",
       "        vertical-align: top;\n",
       "    }\n",
       "\n",
       "    .dataframe thead th {\n",
       "        text-align: right;\n",
       "    }\n",
       "</style>\n",
       "<table border=\"1\" class=\"dataframe\">\n",
       "  <thead>\n",
       "    <tr style=\"text-align: right;\">\n",
       "      <th></th>\n",
       "      <th>begin_date</th>\n",
       "      <th>monthly_charges</th>\n",
       "      <th>total_charges</th>\n",
       "    </tr>\n",
       "  </thead>\n",
       "  <tbody>\n",
       "    <tr>\n",
       "      <th>count</th>\n",
       "      <td>7043</td>\n",
       "      <td>7043.000000</td>\n",
       "      <td>7032.000000</td>\n",
       "    </tr>\n",
       "    <tr>\n",
       "      <th>mean</th>\n",
       "      <td>2017-04-30 13:01:50.918642688</td>\n",
       "      <td>64.761692</td>\n",
       "      <td>2118.621822</td>\n",
       "    </tr>\n",
       "    <tr>\n",
       "      <th>min</th>\n",
       "      <td>2013-10-01 00:00:00</td>\n",
       "      <td>18.250000</td>\n",
       "      <td>19.050000</td>\n",
       "    </tr>\n",
       "    <tr>\n",
       "      <th>25%</th>\n",
       "      <td>2015-06-01 00:00:00</td>\n",
       "      <td>35.500000</td>\n",
       "      <td>439.745000</td>\n",
       "    </tr>\n",
       "    <tr>\n",
       "      <th>50%</th>\n",
       "      <td>2017-09-01 00:00:00</td>\n",
       "      <td>70.350000</td>\n",
       "      <td>1345.275000</td>\n",
       "    </tr>\n",
       "    <tr>\n",
       "      <th>75%</th>\n",
       "      <td>2019-04-01 00:00:00</td>\n",
       "      <td>89.850000</td>\n",
       "      <td>3239.317500</td>\n",
       "    </tr>\n",
       "    <tr>\n",
       "      <th>max</th>\n",
       "      <td>2020-02-01 00:00:00</td>\n",
       "      <td>118.750000</td>\n",
       "      <td>9221.380000</td>\n",
       "    </tr>\n",
       "    <tr>\n",
       "      <th>std</th>\n",
       "      <td>NaN</td>\n",
       "      <td>30.090047</td>\n",
       "      <td>2112.736199</td>\n",
       "    </tr>\n",
       "  </tbody>\n",
       "</table>\n",
       "</div>"
      ],
      "text/plain": [
       "                          begin_date  monthly_charges  total_charges\n",
       "count                           7043      7043.000000    7032.000000\n",
       "mean   2017-04-30 13:01:50.918642688        64.761692    2118.621822\n",
       "min              2013-10-01 00:00:00        18.250000      19.050000\n",
       "25%              2015-06-01 00:00:00        35.500000     439.745000\n",
       "50%              2017-09-01 00:00:00        70.350000    1345.275000\n",
       "75%              2019-04-01 00:00:00        89.850000    3239.317500\n",
       "max              2020-02-01 00:00:00       118.750000    9221.380000\n",
       "std                              NaN        30.090047    2112.736199"
      ]
     },
     "execution_count": 53,
     "metadata": {},
     "output_type": "execute_result"
    }
   ],
   "source": [
    "df_contract.describe()"
   ]
  },
  {
   "cell_type": "markdown",
   "id": "e140abaf-3266-4a66-aeff-8cbeea787913",
   "metadata": {},
   "source": [
    "Numeric features – no anomalies detected"
   ]
  },
  {
   "cell_type": "markdown",
   "id": "5101f87c-3f66-4347-befb-461fd5b19283",
   "metadata": {},
   "source": [
    "Next, we will examine the categorical features"
   ]
  },
  {
   "cell_type": "code",
   "execution_count": 56,
   "id": "ef3d51af-49be-4e84-9a00-203180f922f7",
   "metadata": {},
   "outputs": [
    {
     "data": {
      "image/png": "[encoded data removed]",
      "text/plain": [
       "<Figure size 300x300 with 1 Axes>"
      ]
     },
     "metadata": {},
     "output_type": "display_data"
    }
   ],
   "source": [
    "type_counts = df_contract['type'].value_counts()\n",
    "\n",
    "plt.figure(figsize=(3, 3))\n",
    "plt.pie(type_counts, labels=type_counts.index, autopct='%1.1f%%', startangle=140)\n",
    "plt.title('Contract Type')\n",
    "plt.show()"
   ]
  },
  {
   "cell_type": "markdown",
   "id": "7f30c9eb-57a5-409e-8b71-14ae113b7951",
   "metadata": {},
   "source": [
    "- The majority of contracts are on a month-to-month basis.  \n",
    "- Contracts for one or two years account for approximately 20–24%"
   ]
  },
  {
   "cell_type": "code",
   "execution_count": 58,
   "id": "e54ae1d8-2ee3-42bd-9d40-f0fc9c537081",
   "metadata": {},
   "outputs": [
    {
     "data": {
      "image/png": "[encoded data removed]",
      "text/plain": [
       "<Figure size 400x400 with 1 Axes>"
      ]
     },
     "metadata": {},
     "output_type": "display_data"
    }
   ],
   "source": [
    "payment_method_counts = df_contract['payment_method'].value_counts()\n",
    "\n",
    "plt.figure(figsize=(4, 4)) \n",
    "plt.pie(payment_method_counts, labels=payment_method_counts.index, autopct='%1.1f%%', startangle=140)\n",
    "plt.title('Type of Payment')\n",
    "plt.show()"
   ]
  },
  {
   "cell_type": "markdown",
   "id": "ecef3afb-0ea5-47a8-8407-2c1d155126d8",
   "metadata": {},
   "source": [
    "- Most payments are made via electronic check, accounting for 33%.  \n",
    "- Other payment methods make up approximately 22%"
   ]
  },
  {
   "cell_type": "code",
   "execution_count": 60,
   "id": "cbd6c3a2-2207-4241-a87e-78c57ad9d6f8",
   "metadata": {},
   "outputs": [
    {
     "data": {
      "image/png": "[encoded data removed]",
      "text/plain": [
       "<Figure size 300x300 with 1 Axes>"
      ]
     },
     "metadata": {},
     "output_type": "display_data"
    }
   ],
   "source": [
    "paperless_billing_counts = df_contract['paperless_billing'].value_counts()\n",
    "\n",
    "plt.figure(figsize=(3, 3)) \n",
    "plt.pie(paperless_billing_counts, labels=paperless_billing_counts.index, autopct='%1.1f%%', startangle=140)\n",
    "plt.title('Paperless payment')\n",
    "plt.show()"
   ]
  },
  {
   "cell_type": "markdown",
   "id": "e519bdfa-7710-4835-a641-e22b48c51171",
   "metadata": {},
   "source": [
    "- Most bills are issued in a paperless format, accounting for 60%"
   ]
  },
  {
   "cell_type": "code",
   "execution_count": 62,
   "id": "0126d7f8-aee9-4e69-9636-46d94df1bda5",
   "metadata": {},
   "outputs": [
    {
     "data": {
      "image/png": "[encoded data removed]",
      "text/plain": [
       "<Figure size 500x400 with 1 Axes>"
      ]
     },
     "metadata": {},
     "output_type": "display_data"
    }
   ],
   "source": [
    "plt.figure(figsize=(5, 4))\n",
    "plt.hist(df_contract['begin_date'], bins=10, edgecolor='black')\n",
    "plt.title('Begin contract')\n",
    "plt.xlabel('Begin Date')\n",
    "plt.ylabel('Frequency')\n",
    "plt.xticks(rotation=45)\n",
    "plt.show()"
   ]
  },
  {
   "cell_type": "markdown",
   "id": "16a4a9c5-9608-40e2-a577-a4ce96801299",
   "metadata": {},
   "source": [
    "We can observe that contracts were signed between 2014 and 2020"
   ]
  },
  {
   "cell_type": "code",
   "execution_count": 64,
   "id": "f9a4b969-48dd-4bff-a201-c9308ee14482",
   "metadata": {},
   "outputs": [
    {
     "data": {
      "image/png": "[encoded data removed]",
      "text/plain": [
       "<Figure size 800x600 with 1 Axes>"
      ]
     },
     "metadata": {},
     "output_type": "display_data"
    }
   ],
   "source": [
    "plt.figure(figsize=(8, 6))\n",
    "plt.hist(df_contract['monthly_charges'], bins=10, edgecolor='black', alpha=0.7)\n",
    "plt.title('Monthly Charges')\n",
    "plt.xlabel('Monthly Charges ($)')\n",
    "plt.ylabel('Frequency')\n",
    "plt.grid(axis='y', linestyle='--', alpha=0.7)\n",
    "plt.show()"
   ]
  },
  {
   "cell_type": "markdown",
   "id": "4ba3fd61-ef19-44a4-9b6f-335ea9a9dacd",
   "metadata": {},
   "source": [
    "- The graph shows a strong concentration of customers with low expenses. The highest frequency is observed around 20 dollars, indicating a significant proportion of customers using only basic services.  \n",
    "- Expenses in the 50–90 dollars range display a uniform distribution with lower frequency. This may be associated with customers utilizing multiple services or adding additional options.  \n",
    "- In the 90–120 dollars range, the frequency decreases. This suggests fewer customers opt for expensive plans or additional services.  "
   ]
  },
  {
   "cell_type": "code",
   "execution_count": 66,
   "id": "2ae7de33-8698-4076-9527-0f07bf5aeaa9",
   "metadata": {},
   "outputs": [
    {
     "data": {
      "image/png": "[encoded data removed]",
      "text/plain": [
       "<Figure size 800x600 with 1 Axes>"
      ]
     },
     "metadata": {},
     "output_type": "display_data"
    }
   ],
   "source": [
    "plt.figure(figsize=(8, 6))\n",
    "plt.hist(df_contract['total_charges'], bins=10, edgecolor='black', alpha=0.7)\n",
    "plt.title('Total Charges')\n",
    "plt.xlabel('Total Charges ($)')\n",
    "plt.ylabel('Frequency')\n",
    "plt.grid(axis='y', linestyle='--', alpha=0.7)\n",
    "plt.show()"
   ]
  },
  {
   "cell_type": "markdown",
   "id": "cb2fd2bf-dfcd-4524-95ea-53bc1e0e8de1",
   "metadata": {},
   "source": [
    "- We observe a high concentration of customers with low total expenses (ranging from 0 to 2,000 dollars).  \n",
    "- The graph shows a decline in frequency as total expense values increase.  "
   ]
  },
  {
   "cell_type": "markdown",
   "id": "512eb6ed-b305-4796-97b6-3b882c10c89f",
   "metadata": {},
   "source": [
    "### Dataset personal_new.csv"
   ]
  },
  {
   "cell_type": "markdown",
   "id": "795fc079-6074-4418-b6bb-b2c4b6b94721",
   "metadata": {},
   "source": [
    "#### Data Preprocessing"
   ]
  },
  {
   "cell_type": "code",
   "execution_count": 70,
   "id": "66066ae6-8106-4f12-9148-a9228c77b4fa",
   "metadata": {},
   "outputs": [
    {
     "data": {
      "text/html": [
       "<div>\n",
       "<style scoped>\n",
       "    .dataframe tbody tr th:only-of-type {\n",
       "        vertical-align: middle;\n",
       "    }\n",
       "\n",
       "    .dataframe tbody tr th {\n",
       "        vertical-align: top;\n",
       "    }\n",
       "\n",
       "    .dataframe thead th {\n",
       "        text-align: right;\n",
       "    }\n",
       "</style>\n",
       "<table border=\"1\" class=\"dataframe\">\n",
       "  <thead>\n",
       "    <tr style=\"text-align: right;\">\n",
       "      <th></th>\n",
       "      <th>customer_id</th>\n",
       "      <th>gender</th>\n",
       "      <th>senior_citizen</th>\n",
       "      <th>partner</th>\n",
       "      <th>dependents</th>\n",
       "    </tr>\n",
       "  </thead>\n",
       "  <tbody>\n",
       "    <tr>\n",
       "      <th>0</th>\n",
       "      <td>7590-VHVEG</td>\n",
       "      <td>Female</td>\n",
       "      <td>0</td>\n",
       "      <td>Yes</td>\n",
       "      <td>No</td>\n",
       "    </tr>\n",
       "    <tr>\n",
       "      <th>1</th>\n",
       "      <td>5575-GNVDE</td>\n",
       "      <td>Male</td>\n",
       "      <td>0</td>\n",
       "      <td>No</td>\n",
       "      <td>No</td>\n",
       "    </tr>\n",
       "    <tr>\n",
       "      <th>2</th>\n",
       "      <td>3668-QPYBK</td>\n",
       "      <td>Male</td>\n",
       "      <td>0</td>\n",
       "      <td>No</td>\n",
       "      <td>No</td>\n",
       "    </tr>\n",
       "  </tbody>\n",
       "</table>\n",
       "</div>"
      ],
      "text/plain": [
       "  customer_id  gender  senior_citizen partner dependents\n",
       "0  7590-VHVEG  Female               0     Yes         No\n",
       "1  5575-GNVDE    Male               0      No         No\n",
       "2  3668-QPYBK    Male               0      No         No"
      ]
     },
     "execution_count": 70,
     "metadata": {},
     "output_type": "execute_result"
    }
   ],
   "source": [
    "df_personal.head(3)"
   ]
  },
  {
   "cell_type": "code",
   "execution_count": 71,
   "id": "97c0da23-f3da-4731-bf7a-8abfb4718a81",
   "metadata": {},
   "outputs": [
    {
     "name": "stdout",
     "output_type": "stream",
     "text": [
      "<class 'pandas.core.frame.DataFrame'>\n",
      "RangeIndex: 7043 entries, 0 to 7042\n",
      "Data columns (total 5 columns):\n",
      " #   Column          Non-Null Count  Dtype \n",
      "---  ------          --------------  ----- \n",
      " 0   customer_id     7043 non-null   object\n",
      " 1   gender          7043 non-null   object\n",
      " 2   senior_citizen  7043 non-null   int64 \n",
      " 3   partner         7043 non-null   object\n",
      " 4   dependents      7043 non-null   object\n",
      "dtypes: int64(1), object(4)\n",
      "memory usage: 275.2+ KB\n"
     ]
    }
   ],
   "source": [
    "df_personal.info()"
   ]
  },
  {
   "cell_type": "markdown",
   "id": "343eaf5c-4d53-45f2-93bd-6a142fe0ee42",
   "metadata": {},
   "source": [
    "Examine the duplicates"
   ]
  },
  {
   "cell_type": "code",
   "execution_count": 73,
   "id": "81deb835-c479-4e6f-85b9-c637b83a6615",
   "metadata": {},
   "outputs": [
    {
     "name": "stdout",
     "output_type": "stream",
     "text": [
      "0\n"
     ]
    }
   ],
   "source": [
    "print(df_personal.duplicated().sum())"
   ]
  },
  {
   "cell_type": "markdown",
   "id": "fc437601-918f-460d-80a2-9f94b60b932b",
   "metadata": {},
   "source": [
    "and missing values "
   ]
  },
  {
   "cell_type": "code",
   "execution_count": 75,
   "id": "d0904270-dbcd-4345-a5af-0b79e9ef4502",
   "metadata": {},
   "outputs": [
    {
     "name": "stdout",
     "output_type": "stream",
     "text": [
      "customer_id       0\n",
      "gender            0\n",
      "senior_citizen    0\n",
      "partner           0\n",
      "dependents        0\n",
      "dtype: int64\n"
     ]
    }
   ],
   "source": [
    "missing_values = df_personal.isnull().sum()\n",
    "print(missing_values)"
   ]
  },
  {
   "cell_type": "markdown",
   "id": "5d143f21-f291-4edd-b646-53d0f67d96a8",
   "metadata": {},
   "source": [
    "**Analysis:**\n",
    "- The dataset contains 7043 observations and 4 features, plus `customer_id`.  \n",
    "- No missing values were detected.  \n",
    "- Duplicate entries were checked, and none were found.  \n",
    "- The column formats are correct"
   ]
  },
  {
   "cell_type": "markdown",
   "id": "6616a7b2-6bf6-4505-8ffe-bb31f1d6996c",
   "metadata": {},
   "source": [
    "#### Exploratory Data Analysis"
   ]
  },
  {
   "cell_type": "code",
   "execution_count": 78,
   "id": "b39c2d04-8a9f-4693-a524-c2e4f53968e8",
   "metadata": {},
   "outputs": [
    {
     "data": {
      "image/png": "[encoded data removed]",
      "text/plain": [
       "<Figure size 600x600 with 4 Axes>"
      ]
     },
     "metadata": {},
     "output_type": "display_data"
    }
   ],
   "source": [
    "fig, axes = plt.subplots(2, 2, figsize=(6, 6)) \n",
    "\n",
    "titles = ['Senior Citizen', 'Gender', 'Partner Status', 'Dependents Status']\n",
    "columns_to_plot = ['senior_citizen', 'gender', 'partner', 'dependents']\n",
    "\n",
    "for ax, column, title in zip(axes.flatten(), columns_to_plot, titles):\n",
    "    counts = df_personal[column].value_counts()\n",
    "    ax.pie(counts, labels=counts.index, autopct='%1.1f%%', startangle=140)\n",
    "    ax.set_title(title)\n",
    "\n",
    "plt.tight_layout()\n",
    "plt.show()"
   ]
  },
  {
   "cell_type": "markdown",
   "id": "141a1b6d-1b2d-48d5-ab4a-4965b9d652d7",
   "metadata": {},
   "source": [
    "- We can observe that only 16% of the customers are elderly.  \n",
    "- Gender distribution is nearly equal.  \n",
    "- There is also an almost equal distribution regarding whether or not the customer has a partner.  \n",
    "- For the feature indicating dependents, the majority (70%) do not have dependents"
   ]
  },
  {
   "cell_type": "markdown",
   "id": "770fc23b-eeaa-4cb4-a924-b254d308cdc1",
   "metadata": {},
   "source": [
    "### Dataset internet_new.csv"
   ]
  },
  {
   "cell_type": "markdown",
   "id": "0453a2c5-42fb-47c6-942e-846fe5795728",
   "metadata": {},
   "source": [
    "#### Data Preprocessing"
   ]
  },
  {
   "cell_type": "code",
   "execution_count": 82,
   "id": "a508956f-49a8-491d-9a80-8dd7cdce780b",
   "metadata": {},
   "outputs": [
    {
     "data": {
      "text/html": [
       "<div>\n",
       "<style scoped>\n",
       "    .dataframe tbody tr th:only-of-type {\n",
       "        vertical-align: middle;\n",
       "    }\n",
       "\n",
       "    .dataframe tbody tr th {\n",
       "        vertical-align: top;\n",
       "    }\n",
       "\n",
       "    .dataframe thead th {\n",
       "        text-align: right;\n",
       "    }\n",
       "</style>\n",
       "<table border=\"1\" class=\"dataframe\">\n",
       "  <thead>\n",
       "    <tr style=\"text-align: right;\">\n",
       "      <th></th>\n",
       "      <th>customer_id</th>\n",
       "      <th>internet_service</th>\n",
       "      <th>online_security</th>\n",
       "      <th>online_backup</th>\n",
       "      <th>device_protection</th>\n",
       "      <th>tech_support</th>\n",
       "      <th>streaming_tv</th>\n",
       "      <th>streaming_movies</th>\n",
       "    </tr>\n",
       "  </thead>\n",
       "  <tbody>\n",
       "    <tr>\n",
       "      <th>0</th>\n",
       "      <td>7590-VHVEG</td>\n",
       "      <td>DSL</td>\n",
       "      <td>No</td>\n",
       "      <td>Yes</td>\n",
       "      <td>No</td>\n",
       "      <td>No</td>\n",
       "      <td>No</td>\n",
       "      <td>No</td>\n",
       "    </tr>\n",
       "    <tr>\n",
       "      <th>1</th>\n",
       "      <td>5575-GNVDE</td>\n",
       "      <td>DSL</td>\n",
       "      <td>Yes</td>\n",
       "      <td>No</td>\n",
       "      <td>Yes</td>\n",
       "      <td>No</td>\n",
       "      <td>No</td>\n",
       "      <td>No</td>\n",
       "    </tr>\n",
       "    <tr>\n",
       "      <th>2</th>\n",
       "      <td>3668-QPYBK</td>\n",
       "      <td>DSL</td>\n",
       "      <td>Yes</td>\n",
       "      <td>Yes</td>\n",
       "      <td>No</td>\n",
       "      <td>No</td>\n",
       "      <td>No</td>\n",
       "      <td>No</td>\n",
       "    </tr>\n",
       "  </tbody>\n",
       "</table>\n",
       "</div>"
      ],
      "text/plain": [
       "  customer_id internet_service online_security online_backup  \\\n",
       "0  7590-VHVEG              DSL              No           Yes   \n",
       "1  5575-GNVDE              DSL             Yes            No   \n",
       "2  3668-QPYBK              DSL             Yes           Yes   \n",
       "\n",
       "  device_protection tech_support streaming_tv streaming_movies  \n",
       "0                No           No           No               No  \n",
       "1               Yes           No           No               No  \n",
       "2                No           No           No               No  "
      ]
     },
     "execution_count": 82,
     "metadata": {},
     "output_type": "execute_result"
    }
   ],
   "source": [
    "df_internet.head(3)"
   ]
  },
  {
   "cell_type": "code",
   "execution_count": 83,
   "id": "613dc9e0-c105-490f-89e8-1bc25bae50b8",
   "metadata": {},
   "outputs": [
    {
     "name": "stdout",
     "output_type": "stream",
     "text": [
      "<class 'pandas.core.frame.DataFrame'>\n",
      "RangeIndex: 5517 entries, 0 to 5516\n",
      "Data columns (total 8 columns):\n",
      " #   Column             Non-Null Count  Dtype \n",
      "---  ------             --------------  ----- \n",
      " 0   customer_id        5517 non-null   object\n",
      " 1   internet_service   5517 non-null   object\n",
      " 2   online_security    5517 non-null   object\n",
      " 3   online_backup      5517 non-null   object\n",
      " 4   device_protection  5517 non-null   object\n",
      " 5   tech_support       5517 non-null   object\n",
      " 6   streaming_tv       5517 non-null   object\n",
      " 7   streaming_movies   5517 non-null   object\n",
      "dtypes: object(8)\n",
      "memory usage: 344.9+ KB\n"
     ]
    }
   ],
   "source": [
    "df_internet.info()"
   ]
  },
  {
   "cell_type": "markdown",
   "id": "e0b4a629-286e-47d9-8610-9f0550371876",
   "metadata": {},
   "source": [
    "Checking the dupliactes "
   ]
  },
  {
   "cell_type": "code",
   "execution_count": 85,
   "id": "17373794-6dae-47b6-893c-befde60af389",
   "metadata": {},
   "outputs": [
    {
     "name": "stdout",
     "output_type": "stream",
     "text": [
      "0\n"
     ]
    }
   ],
   "source": [
    "print(df_internet.duplicated().sum())"
   ]
  },
  {
   "cell_type": "markdown",
   "id": "be0dab43-0491-40ec-98a3-b0071a111116",
   "metadata": {},
   "source": [
    "and missing values "
   ]
  },
  {
   "cell_type": "code",
   "execution_count": 87,
   "id": "ca3f0378-5986-43b0-8814-353bda516e5d",
   "metadata": {},
   "outputs": [
    {
     "name": "stdout",
     "output_type": "stream",
     "text": [
      "customer_id          0\n",
      "internet_service     0\n",
      "online_security      0\n",
      "online_backup        0\n",
      "device_protection    0\n",
      "tech_support         0\n",
      "streaming_tv         0\n",
      "streaming_movies     0\n",
      "dtype: int64\n"
     ]
    }
   ],
   "source": [
    "missing_values = df_internet.isnull().sum()\n",
    "print(missing_values)"
   ]
  },
  {
   "cell_type": "markdown",
   "id": "25af4dca-3973-43b2-8e84-35e4b49c5fe1",
   "metadata": {},
   "source": [
    "**Analysis:**\n",
    "- The dataset contains 5517 observations and 7 features, plus `customer_id`.  \n",
    "- No missing values were detected.  \n",
    "- Duplicate entries were checked, and none were found.  \n",
    "- The column formats are correct"
   ]
  },
  {
   "cell_type": "markdown",
   "id": "9c60ee23-c7c5-468d-bfcf-40c3e60ec5cc",
   "metadata": {},
   "source": [
    "#### Exploratory Data Analysis"
   ]
  },
  {
   "cell_type": "code",
   "execution_count": 90,
   "id": "15e10cb0-95f6-49b4-b5ef-8f4c86e9f8f9",
   "metadata": {},
   "outputs": [
    {
     "data": {
      "image/png": "[encoded data removed]",
      "text/plain": [
       "<Figure size 1500x1500 with 9 Axes>"
      ]
     },
     "metadata": {},
     "output_type": "display_data"
    }
   ],
   "source": [
    "columns_to_plot = [\n",
    "    'internet_service', 'online_security', 'online_backup', \n",
    "    'device_protection', 'tech_support', 'streaming_tv', 'streaming_movies'\n",
    "]\n",
    "titles = [\n",
    "    'Internet Service', 'Online Security', 'Online Backup', \n",
    "    'Device Protection', 'Tech Support', 'Streaming TV', 'Streaming Movies'\n",
    "]\n",
    "\n",
    "fig, axes = plt.subplots(3, 3, figsize=(15, 15)) \n",
    "\n",
    "for ax, column, title in zip(axes.flatten(), columns_to_plot, titles):\n",
    "    counts = df_internet[column].value_counts()\n",
    "    ax.pie(counts, labels=counts.index, autopct='%1.1f%%', startangle=140)\n",
    "    ax.set_title(title)\n",
    "\n",
    "for ax in axes.flatten()[len(columns_to_plot):]:\n",
    "    ax.axis('off')\n",
    "\n",
    "# Adjust layout for better spacing\n",
    "plt.tight_layout()\n",
    "plt.show()"
   ]
  },
  {
   "cell_type": "markdown",
   "id": "9877c5d5-282e-4a28-8886-250b8631c9b7",
   "metadata": {},
   "source": [
    "- The graph shows that 56% of users use a Fiber optic connection type, while 44% use DSL.  \n",
    "- Website blocking for unsafe sites is activated by 36% of users.  \n",
    "- Cloud storage for data backup is utilized by 44% of users.  \n",
    "- Antivirus protection is available for 44% of users.  \n",
    "- A dedicated technical support line is used by 37% of users.  \n",
    "- Streaming TV is used by 49% of users.  \n",
    "- The movie catalog is subscribed to by 50% of users"
   ]
  },
  {
   "cell_type": "markdown",
   "id": "affefd06-1c02-4a6f-a28e-25ff9387fa6a",
   "metadata": {},
   "source": [
    "### Dataset phone_new.csv"
   ]
  },
  {
   "cell_type": "markdown",
   "id": "4a349df5-67b5-4999-88bb-900f93ab826f",
   "metadata": {},
   "source": [
    "#### Data Preprocessing"
   ]
  },
  {
   "cell_type": "code",
   "execution_count": 94,
   "id": "a88cf636-e97f-492e-8744-cdb784d735f1",
   "metadata": {},
   "outputs": [
    {
     "data": {
      "text/html": [
       "<div>\n",
       "<style scoped>\n",
       "    .dataframe tbody tr th:only-of-type {\n",
       "        vertical-align: middle;\n",
       "    }\n",
       "\n",
       "    .dataframe tbody tr th {\n",
       "        vertical-align: top;\n",
       "    }\n",
       "\n",
       "    .dataframe thead th {\n",
       "        text-align: right;\n",
       "    }\n",
       "</style>\n",
       "<table border=\"1\" class=\"dataframe\">\n",
       "  <thead>\n",
       "    <tr style=\"text-align: right;\">\n",
       "      <th></th>\n",
       "      <th>customer_id</th>\n",
       "      <th>multiple_lines</th>\n",
       "    </tr>\n",
       "  </thead>\n",
       "  <tbody>\n",
       "    <tr>\n",
       "      <th>0</th>\n",
       "      <td>5575-GNVDE</td>\n",
       "      <td>No</td>\n",
       "    </tr>\n",
       "    <tr>\n",
       "      <th>1</th>\n",
       "      <td>3668-QPYBK</td>\n",
       "      <td>No</td>\n",
       "    </tr>\n",
       "    <tr>\n",
       "      <th>2</th>\n",
       "      <td>9237-HQITU</td>\n",
       "      <td>No</td>\n",
       "    </tr>\n",
       "  </tbody>\n",
       "</table>\n",
       "</div>"
      ],
      "text/plain": [
       "  customer_id multiple_lines\n",
       "0  5575-GNVDE             No\n",
       "1  3668-QPYBK             No\n",
       "2  9237-HQITU             No"
      ]
     },
     "execution_count": 94,
     "metadata": {},
     "output_type": "execute_result"
    }
   ],
   "source": [
    "df_phone.head(3)"
   ]
  },
  {
   "cell_type": "code",
   "execution_count": 95,
   "id": "4cbfeef9-a0c4-4957-8ead-e63b431fd61d",
   "metadata": {},
   "outputs": [
    {
     "name": "stdout",
     "output_type": "stream",
     "text": [
      "<class 'pandas.core.frame.DataFrame'>\n",
      "RangeIndex: 6361 entries, 0 to 6360\n",
      "Data columns (total 2 columns):\n",
      " #   Column          Non-Null Count  Dtype \n",
      "---  ------          --------------  ----- \n",
      " 0   customer_id     6361 non-null   object\n",
      " 1   multiple_lines  6361 non-null   object\n",
      "dtypes: object(2)\n",
      "memory usage: 99.5+ KB\n"
     ]
    }
   ],
   "source": [
    "df_phone.info()"
   ]
  },
  {
   "cell_type": "markdown",
   "id": "ac55c081-2832-454f-800b-779ca87ba774",
   "metadata": {},
   "source": [
    "Checking the duplicates"
   ]
  },
  {
   "cell_type": "code",
   "execution_count": 97,
   "id": "e9676c56-2f00-4ee0-8305-b53d73dff97e",
   "metadata": {},
   "outputs": [
    {
     "name": "stdout",
     "output_type": "stream",
     "text": [
      "0\n"
     ]
    }
   ],
   "source": [
    "print(df_phone.duplicated().sum())"
   ]
  },
  {
   "cell_type": "markdown",
   "id": "d2fe824e-63f7-41f3-8445-99c9b18e6752",
   "metadata": {},
   "source": [
    "and missing values "
   ]
  },
  {
   "cell_type": "code",
   "execution_count": 99,
   "id": "76b72194-b350-4cba-a517-db189002e7ac",
   "metadata": {},
   "outputs": [
    {
     "name": "stdout",
     "output_type": "stream",
     "text": [
      "customer_id       0\n",
      "multiple_lines    0\n",
      "dtype: int64\n"
     ]
    }
   ],
   "source": [
    "missing_values = df_phone.isnull().sum()\n",
    "print(missing_values)"
   ]
  },
  {
   "cell_type": "markdown",
   "id": "5761de74-b7ef-4679-a800-438744d03a18",
   "metadata": {},
   "source": [
    "**Analysis:**\n",
    "- The dataset contains 6361 observations and one feature, plus `customer_id`.  \n",
    "- No missing values were detected.  \n",
    "- Duplicate entries were checked, and none were found.  \n",
    "- The column format is correct"
   ]
  },
  {
   "cell_type": "markdown",
   "id": "ffcbdf98-02d3-4fd7-9001-7773261f8ec5",
   "metadata": {},
   "source": [
    "#### Exploratory Data Analysis"
   ]
  },
  {
   "cell_type": "code",
   "execution_count": 102,
   "id": "3c1b3616-4b3b-4619-bd3f-f3edc5e25ea2",
   "metadata": {},
   "outputs": [
    {
     "data": {
      "image/png": "[encoded data removed]",
      "text/plain": [
       "<Figure size 300x300 with 1 Axes>"
      ]
     },
     "metadata": {},
     "output_type": "display_data"
    }
   ],
   "source": [
    "multiple_lines_counts = df_phone['multiple_lines'].value_counts()\n",
    "\n",
    "plt.figure(figsize=(3, 3))  \n",
    "plt.pie(multiple_lines_counts, labels=multiple_lines_counts.index, autopct='%1.1f%%', startangle=140)\n",
    "plt.title('Multiple Lines')\n",
    "plt.show()"
   ]
  },
  {
   "cell_type": "markdown",
   "id": "186156d5-1f33-43bf-bde3-7b09cf1fd392",
   "metadata": {},
   "source": [
    "47% of users have their phones connected to multiple lines simultaneously."
   ]
  },
  {
   "cell_type": "markdown",
   "id": "e6d85a5e-0e95-4066-a3bf-31138c978ff7",
   "metadata": {},
   "source": [
    "### Feature Analysis"
   ]
  },
  {
   "cell_type": "markdown",
   "id": "387c546d-a8b6-494c-8bf9-639f023f9b71",
   "metadata": {},
   "source": [
    "1. **df_contract**:\n",
    "   - All features are useful for training the model. They contain critical information about the customer's contract, such as payment type, expenses, and contract duration, which can directly influence the likelihood of churn.\n",
    "\n",
    "2. **df_personal**:\n",
    "   - The feature **gender** is not relevant, as the distribution between men and women is balanced, and there is no evidence suggesting that a customer's gender significantly impacts churn.  \n",
    "   - Other features (SeniorCitizen, Partner, Dependents) are useful for analysis, as they reflect demographic and social factors that may influence customer behavior.\n",
    "\n",
    "3. **df_internet**:\n",
    "   - All features are useful for training the model. They provide detailed information about the type of connection, additional services (e.g., Online Security, Tech Support), and customer engagement, which are important for analyzing the likelihood of churn.\n",
    "\n",
    "4. **df_phone**:\n",
    "   - All features are useful for training the model. The feature **Multiple Lines** reflects the level of usage of telephony services and may be associated with customer loyalty.  "
   ]
  },
  {
   "cell_type": "markdown",
   "id": "a5b8bb88-3ff0-49fe-8348-a54c79aacfa7",
   "metadata": {},
   "source": [
    "## Data Merge "
   ]
  },
  {
   "cell_type": "markdown",
   "id": "52e03e32-0d25-4dc8-bada-6035e1c86a37",
   "metadata": {},
   "source": [
    "Merging the tables "
   ]
  },
  {
   "cell_type": "code",
   "execution_count": 108,
   "id": "508cc836-2406-4ed4-be13-66cbe0a25d4f",
   "metadata": {},
   "outputs": [
    {
     "data": {
      "text/html": [
       "<div>\n",
       "<style scoped>\n",
       "    .dataframe tbody tr th:only-of-type {\n",
       "        vertical-align: middle;\n",
       "    }\n",
       "\n",
       "    .dataframe tbody tr th {\n",
       "        vertical-align: top;\n",
       "    }\n",
       "\n",
       "    .dataframe thead th {\n",
       "        text-align: right;\n",
       "    }\n",
       "</style>\n",
       "<table border=\"1\" class=\"dataframe\">\n",
       "  <thead>\n",
       "    <tr style=\"text-align: right;\">\n",
       "      <th></th>\n",
       "      <th>customer_id</th>\n",
       "      <th>begin_date</th>\n",
       "      <th>end_date</th>\n",
       "      <th>type</th>\n",
       "      <th>paperless_billing</th>\n",
       "      <th>payment_method</th>\n",
       "      <th>monthly_charges</th>\n",
       "      <th>total_charges</th>\n",
       "      <th>senior_citizen</th>\n",
       "      <th>partner</th>\n",
       "      <th>dependents</th>\n",
       "      <th>internet_service</th>\n",
       "      <th>online_security</th>\n",
       "      <th>online_backup</th>\n",
       "      <th>device_protection</th>\n",
       "      <th>tech_support</th>\n",
       "      <th>streaming_tv</th>\n",
       "      <th>streaming_movies</th>\n",
       "      <th>multiple_lines</th>\n",
       "    </tr>\n",
       "  </thead>\n",
       "  <tbody>\n",
       "    <tr>\n",
       "      <th>0</th>\n",
       "      <td>0002-ORFBO</td>\n",
       "      <td>2019-05-01</td>\n",
       "      <td>No</td>\n",
       "      <td>One year</td>\n",
       "      <td>Yes</td>\n",
       "      <td>Mailed check</td>\n",
       "      <td>65.6</td>\n",
       "      <td>631.73</td>\n",
       "      <td>0</td>\n",
       "      <td>Yes</td>\n",
       "      <td>Yes</td>\n",
       "      <td>DSL</td>\n",
       "      <td>No</td>\n",
       "      <td>Yes</td>\n",
       "      <td>No</td>\n",
       "      <td>Yes</td>\n",
       "      <td>Yes</td>\n",
       "      <td>No</td>\n",
       "      <td>No</td>\n",
       "    </tr>\n",
       "    <tr>\n",
       "      <th>1</th>\n",
       "      <td>0003-MKNFE</td>\n",
       "      <td>2019-05-01</td>\n",
       "      <td>No</td>\n",
       "      <td>Month-to-month</td>\n",
       "      <td>No</td>\n",
       "      <td>Mailed check</td>\n",
       "      <td>59.9</td>\n",
       "      <td>539.10</td>\n",
       "      <td>0</td>\n",
       "      <td>No</td>\n",
       "      <td>No</td>\n",
       "      <td>DSL</td>\n",
       "      <td>No</td>\n",
       "      <td>No</td>\n",
       "      <td>No</td>\n",
       "      <td>No</td>\n",
       "      <td>No</td>\n",
       "      <td>Yes</td>\n",
       "      <td>Yes</td>\n",
       "    </tr>\n",
       "    <tr>\n",
       "      <th>2</th>\n",
       "      <td>0004-TLHLJ</td>\n",
       "      <td>2019-09-01</td>\n",
       "      <td>No</td>\n",
       "      <td>Month-to-month</td>\n",
       "      <td>Yes</td>\n",
       "      <td>Electronic check</td>\n",
       "      <td>73.9</td>\n",
       "      <td>406.45</td>\n",
       "      <td>0</td>\n",
       "      <td>No</td>\n",
       "      <td>No</td>\n",
       "      <td>Fiber optic</td>\n",
       "      <td>No</td>\n",
       "      <td>No</td>\n",
       "      <td>Yes</td>\n",
       "      <td>No</td>\n",
       "      <td>No</td>\n",
       "      <td>No</td>\n",
       "      <td>No</td>\n",
       "    </tr>\n",
       "  </tbody>\n",
       "</table>\n",
       "</div>"
      ],
      "text/plain": [
       "  customer_id begin_date end_date            type paperless_billing  \\\n",
       "0  0002-ORFBO 2019-05-01       No        One year               Yes   \n",
       "1  0003-MKNFE 2019-05-01       No  Month-to-month                No   \n",
       "2  0004-TLHLJ 2019-09-01       No  Month-to-month               Yes   \n",
       "\n",
       "     payment_method  monthly_charges  total_charges  senior_citizen partner  \\\n",
       "0      Mailed check             65.6         631.73               0     Yes   \n",
       "1      Mailed check             59.9         539.10               0      No   \n",
       "2  Electronic check             73.9         406.45               0      No   \n",
       "\n",
       "  dependents internet_service online_security online_backup device_protection  \\\n",
       "0        Yes              DSL              No           Yes                No   \n",
       "1         No              DSL              No            No                No   \n",
       "2         No      Fiber optic              No            No               Yes   \n",
       "\n",
       "  tech_support streaming_tv streaming_movies multiple_lines  \n",
       "0          Yes          Yes               No             No  \n",
       "1           No           No              Yes            Yes  \n",
       "2           No           No               No             No  "
      ]
     },
     "execution_count": 108,
     "metadata": {},
     "output_type": "execute_result"
    }
   ],
   "source": [
    "# exclude gender feature\n",
    "df_personal = df_personal.drop(columns=['gender'])\n",
    "\n",
    "# joining all tables based on customer_id \n",
    "df_combined = pd.merge(df_contract, df_personal, on='customer_id', how='outer')\n",
    "df_combined = pd.merge(df_combined, df_internet, on='customer_id', how='outer')\n",
    "df_combined = pd.merge(df_combined, df_phone, on='customer_id', how='outer')\n",
    "\n",
    "df_combined.head(3)\n"
   ]
  },
  {
   "cell_type": "markdown",
   "id": "5f617bef-bd5c-4351-84cd-203c7f1a0e01",
   "metadata": {},
   "source": [
    "## Exploratory Data Analysis and Preprocessing of the Combined DataFrame"
   ]
  },
  {
   "cell_type": "markdown",
   "id": "5a16cdb9-79ac-4d88-95c7-b9da896a21fb",
   "metadata": {},
   "source": [
    "### Data Preprocessing "
   ]
  },
  {
   "cell_type": "code",
   "execution_count": 111,
   "id": "38929654-18ad-406a-acd2-333d8a68f1dd",
   "metadata": {},
   "outputs": [
    {
     "name": "stdout",
     "output_type": "stream",
     "text": [
      "<class 'pandas.core.frame.DataFrame'>\n",
      "RangeIndex: 7043 entries, 0 to 7042\n",
      "Data columns (total 19 columns):\n",
      " #   Column             Non-Null Count  Dtype         \n",
      "---  ------             --------------  -----         \n",
      " 0   customer_id        7043 non-null   object        \n",
      " 1   begin_date         7043 non-null   datetime64[ns]\n",
      " 2   end_date           7043 non-null   object        \n",
      " 3   type               7043 non-null   object        \n",
      " 4   paperless_billing  7043 non-null   object        \n",
      " 5   payment_method     7043 non-null   object        \n",
      " 6   monthly_charges    7043 non-null   float64       \n",
      " 7   total_charges      7032 non-null   float64       \n",
      " 8   senior_citizen     7043 non-null   int64         \n",
      " 9   partner            7043 non-null   object        \n",
      " 10  dependents         7043 non-null   object        \n",
      " 11  internet_service   5517 non-null   object        \n",
      " 12  online_security    5517 non-null   object        \n",
      " 13  online_backup      5517 non-null   object        \n",
      " 14  device_protection  5517 non-null   object        \n",
      " 15  tech_support       5517 non-null   object        \n",
      " 16  streaming_tv       5517 non-null   object        \n",
      " 17  streaming_movies   5517 non-null   object        \n",
      " 18  multiple_lines     6361 non-null   object        \n",
      "dtypes: datetime64[ns](1), float64(2), int64(1), object(15)\n",
      "memory usage: 1.0+ MB\n"
     ]
    }
   ],
   "source": [
    "df_combined.info()"
   ]
  },
  {
   "cell_type": "code",
   "execution_count": 112,
   "id": "e192f28c-d0cd-4cb5-b463-9baaf5d1c381",
   "metadata": {},
   "outputs": [
    {
     "name": "stdout",
     "output_type": "stream",
     "text": [
      "0\n"
     ]
    }
   ],
   "source": [
    "print(df_combined.duplicated().sum())"
   ]
  },
  {
   "cell_type": "code",
   "execution_count": 113,
   "id": "84c2c7ed-8167-485f-9291-a277c48854a1",
   "metadata": {},
   "outputs": [
    {
     "name": "stdout",
     "output_type": "stream",
     "text": [
      "customer_id             0\n",
      "begin_date              0\n",
      "end_date                0\n",
      "type                    0\n",
      "paperless_billing       0\n",
      "payment_method          0\n",
      "monthly_charges         0\n",
      "total_charges          11\n",
      "senior_citizen          0\n",
      "partner                 0\n",
      "dependents              0\n",
      "internet_service     1526\n",
      "online_security      1526\n",
      "online_backup        1526\n",
      "device_protection    1526\n",
      "tech_support         1526\n",
      "streaming_tv         1526\n",
      "streaming_movies     1526\n",
      "multiple_lines        682\n",
      "dtype: int64\n"
     ]
    }
   ],
   "source": [
    "missing_values = df_combined.isnull().sum()\n",
    "print(missing_values)"
   ]
  },
  {
   "cell_type": "markdown",
   "id": "e1538983-ba7d-496b-bf2e-d102abd707f2",
   "metadata": {},
   "source": [
    "**Analysis:**\n",
    "- The dataset contains 7043 observations and 18 features, plus `customer_id`.  \n",
    "- Missing values are present in the columns `internet_service`, `online_security`, `online_backup`, `device_protection`, `tech_support`, `streaming_tv`, and `streaming_movies`. The reason for these missing values is that customers without internet service are not included in the `df_internet` table. Since the service is absent, these missing values can be replaced with `\"No\"`.  \n",
    "- Customers with missing values in the column `multiple_lines` (682 missing entries) likely do not use telephony services. These values can also be replaced with `\"No\"`.  \n",
    "- The column `total_charges` has only 11 missing entries. These can be filled using the values from the `monthly_charges` column.  "
   ]
  },
  {
   "cell_type": "code",
   "execution_count": 115,
   "id": "01c5fd41-f37e-4940-80bd-b51b10491599",
   "metadata": {},
   "outputs": [],
   "source": [
    "columns_to_fill = ['internet_service', 'online_security', 'online_backup', \n",
    "                   'device_protection', 'tech_support', 'streaming_tv', 'streaming_movies', 'multiple_lines']\n",
    "\n",
    "df_combined[columns_to_fill] = df_combined[columns_to_fill].fillna('No')"
   ]
  },
  {
   "cell_type": "code",
   "execution_count": 116,
   "id": "ca768905-6eb2-46fe-94d6-c3d6f6ba3bea",
   "metadata": {},
   "outputs": [],
   "source": [
    "df_combined['total_charges'] = df_combined['total_charges'].fillna(df_combined['monthly_charges'])"
   ]
  },
  {
   "cell_type": "code",
   "execution_count": 117,
   "id": "d6c94f47-9315-4a2b-bfd5-03c796732a60",
   "metadata": {},
   "outputs": [
    {
     "name": "stdout",
     "output_type": "stream",
     "text": [
      "customer_id          0\n",
      "begin_date           0\n",
      "end_date             0\n",
      "type                 0\n",
      "paperless_billing    0\n",
      "payment_method       0\n",
      "monthly_charges      0\n",
      "total_charges        0\n",
      "senior_citizen       0\n",
      "partner              0\n",
      "dependents           0\n",
      "internet_service     0\n",
      "online_security      0\n",
      "online_backup        0\n",
      "device_protection    0\n",
      "tech_support         0\n",
      "streaming_tv         0\n",
      "streaming_movies     0\n",
      "multiple_lines       0\n",
      "dtype: int64\n"
     ]
    }
   ],
   "source": [
    "missing_values = df_combined.isnull().sum()\n",
    "print(missing_values)"
   ]
  },
  {
   "cell_type": "markdown",
   "id": "ddf402cc-5266-41ba-9639-f71ae1b95616",
   "metadata": {},
   "source": [
    "Replace the values `1` and `0` in the `senior_citizen` feature with `\"Yes\"` and `\"No\"`, respectively, to ensure the feature is later treated as categorical"
   ]
  },
  {
   "cell_type": "code",
   "execution_count": 119,
   "id": "de1321b5-befd-4cd7-88b0-4e1460bfc300",
   "metadata": {},
   "outputs": [
    {
     "name": "stdout",
     "output_type": "stream",
     "text": [
      "senior_citizen\n",
      "No     5901\n",
      "Yes    1142\n",
      "Name: count, dtype: int64\n"
     ]
    }
   ],
   "source": [
    "df_combined['senior_citizen'] = df_combined['senior_citizen'].replace({0: 'No', 1: 'Yes'})\n",
    "print(df_combined['senior_citizen'].value_counts())"
   ]
  },
  {
   "cell_type": "markdown",
   "id": "9afea7a1-ee05-41f0-8cd9-0cb0589699b0",
   "metadata": {},
   "source": [
    "### Feature Engineering "
   ]
  },
  {
   "cell_type": "markdown",
   "id": "a35b7d46-3217-436e-8a9c-4547353c0ae4",
   "metadata": {},
   "source": [
    "From the `BeginDate` and `EndDate` columns, we can create two new features:\n",
    "\n",
    "1. **`duration`**:  \n",
    "   - The duration of the contract in days (calculated as the number of days from the contract start date `BeginDate` to the end date `EndDate`).  \n",
    "   - If the customer is still using the services (`EndDate` is `\"No\"`), the current date can be used to calculate the duration.\n",
    "\n",
    "2. **`churn`** (binary churn indicator):  \n",
    "   - If `EndDate` is `\"No\"`, the customer is active (value `0`).  \n",
    "   - If a specific date is given in `EndDate`, the contract is terminated (value `1`).  "
   ]
  },
  {
   "cell_type": "code",
   "execution_count": 122,
   "id": "780b392e-bf6c-40ec-bcf4-1b49729502c0",
   "metadata": {},
   "outputs": [
    {
     "name": "stdout",
     "output_type": "stream",
     "text": [
      "  begin_date end_date  duration  churn\n",
      "0 2019-05-01      NaT       276      0\n",
      "1 2019-05-01      NaT       276      0\n",
      "2 2019-09-01      NaT       153      0\n",
      "3 2018-12-01      NaT       427      0\n",
      "4 2019-09-01      NaT       153      0\n"
     ]
    }
   ],
   "source": [
    "\n",
    "# converting EndDate to datetime\n",
    "df_combined['end_date'] = df_combined['end_date'].replace(\"No\", pd.NaT)  # Заменяем \"No\" на NaT (Not a Time)\n",
    "df_combined['end_date'] = pd.to_datetime(df_combined['end_date'])\n",
    "\n",
    "# creation of duration feature (contract duration in days)\n",
    "# If EndDate is missing (NaT), use current date \n",
    "current_date = pd.to_datetime(\"2020-02-01\")  \n",
    "df_combined['duration'] = (df_combined['end_date'].fillna(current_date) - df_combined['begin_date']).dt.days\n",
    "\n",
    "# create feature churn\n",
    "# cotract is active (churn = 0), contract is terminated (churn = 1)\n",
    "df_combined['churn'] = df_combined['end_date'].notna().astype(int)\n",
    "\n",
    "\n",
    "print(df_combined[['begin_date', 'end_date', 'duration', 'churn']].head())\n"
   ]
  },
  {
   "cell_type": "markdown",
   "id": "1a523dee-ba3d-4ea4-9e8b-90a950786e36",
   "metadata": {},
   "source": [
    "**Conclusion**\n",
    "\n",
    "**`Churn` is the target feature.**  \n",
    "The task of the telecommunications operator is to identify customers who are most likely to terminate their contracts. The feature `churn` encodes this information:  \n",
    "- `churn = 0`: The customer continues to use the services.  \n",
    "- `churn = 1`: The customer has terminated the contract.  \n",
    "\n",
    "The model will be trained on other features to predict the value of `churn`. This will enable the telecommunications operator to proactively identify customers prone to churn"
   ]
  },
  {
   "cell_type": "markdown",
   "id": "384158ae-d4da-4b62-849a-553f1cda2fc6",
   "metadata": {},
   "source": [
    "The `begin_date` and `end_date` data are not relevant for training and can be removed"
   ]
  },
  {
   "cell_type": "code",
   "execution_count": 125,
   "id": "6874b86b-630b-4a83-8420-5d83e9be9d8d",
   "metadata": {},
   "outputs": [],
   "source": [
    "df_combined = df_combined.drop(columns=['begin_date', 'end_date'])"
   ]
  },
  {
   "cell_type": "markdown",
   "id": "ad6096be-0903-418d-9e93-00dbd4e76ce3",
   "metadata": {},
   "source": [
    "### Exploratory Data Analysis"
   ]
  },
  {
   "cell_type": "markdown",
   "id": "67236515-f210-4cac-ba6f-d54c729f0280",
   "metadata": {},
   "source": [
    "Examine new features "
   ]
  },
  {
   "cell_type": "code",
   "execution_count": 128,
   "id": "8732f34e-31f5-4686-a907-5b26f088dfca",
   "metadata": {},
   "outputs": [
    {
     "data": {
      "image/png": "[encoded data removed]",
      "text/plain": [
       "<Figure size 800x600 with 1 Axes>"
      ]
     },
     "metadata": {},
     "output_type": "display_data"
    }
   ],
   "source": [
    "plt.figure(figsize=(8, 6))\n",
    "plt.hist(df_combined['duration'], bins=20, edgecolor='black', alpha=0.7)\n",
    "plt.title('Contract Duration')\n",
    "plt.xlabel('Duration (days)')\n",
    "plt.ylabel('Frequency')\n",
    "plt.grid(axis='y', linestyle='--', alpha=0.7)\n",
    "plt.show()"
   ]
  },
  {
   "cell_type": "markdown",
   "id": "c868f202-ad21-4d8d-9472-a37b37fc3a9c",
   "metadata": {},
   "source": [
    "- The graph shows that a large proportion of customers have short contract durations.  \n",
    "- The main peak is observed in the range of 0–500 days, with the highest value around 800 days.  \n",
    "- This may indicate that a significant portion of customers are relatively new or have short-term contracts. It is already known that most customers have month-to-month contracts. These customers may be more prone to churn as they have not yet developed loyalty to the operator.  \n",
    "- In the range of 500 to 1500 days, the frequency is more evenly distributed, with values around 300–400.  \n",
    "- Around 2000 days, another peak is observed with a frequency of about 500. These are customers with long-term contracts, who are likely the most loyal and least prone to churn.  "
   ]
  },
  {
   "cell_type": "code",
   "execution_count": 130,
   "id": "4c3e97a9-51df-4fb7-9bbd-929cd8f5cc76",
   "metadata": {},
   "outputs": [
    {
     "data": {
      "image/png": "[encoded data removed]",
      "text/plain": [
       "<Figure size 300x300 with 1 Axes>"
      ]
     },
     "metadata": {},
     "output_type": "display_data"
    }
   ],
   "source": [
    "churn_counts = df_combined['churn'].value_counts()\n",
    "\n",
    "plt.figure(figsize=(3, 3))\n",
    "plt.pie(churn_counts, labels=['Active (0)', 'Churned (1)'], autopct='%1.1f%%', startangle=140, colors=['#66b3ff', '#ff9999'])\n",
    "plt.title('Distribution of Churn')\n",
    "plt.show()\n",
    "\n"
   ]
  },
  {
   "cell_type": "markdown",
   "id": "66ec87b3-2a24-465a-abda-3e2d12b8f494",
   "metadata": {},
   "source": [
    "- The graph shows that 84.4% of customers continue to use the company's services.  \n",
    "- The majority of customers remain loyal to the telecommunications operator.  \n",
    "- 15.6% of customers have terminated their contracts, highlighting the need for developing customer retention strategies.  \n",
    "\n",
    "**Class Balance**:  \n",
    "- The `churn` feature is imbalanced, as one category significantly outweighs the other.  \n",
    "- When training the model, this imbalance may lead to prediction bias towards the majority class"
   ]
  },
  {
   "cell_type": "markdown",
   "id": "9fef1048-307f-4653-8f0d-1009d179f57b",
   "metadata": {},
   "source": [
    "### Correlation Analysis"
   ]
  },
  {
   "cell_type": "markdown",
   "id": "a132cb69-45fa-4a3c-a89c-a71e2f07da05",
   "metadata": {},
   "source": [
    "Let's start by examining the interactions between features.  \n",
    "We will construct a correlation matrix to analyze the relationships between features"
   ]
  },
  {
   "cell_type": "code",
   "execution_count": 134,
   "id": "8d1a2fe7-83c3-45ed-b7ec-4815a309ca5f",
   "metadata": {},
   "outputs": [],
   "source": [
    "df_combined = df_combined.set_index('customer_id')"
   ]
  },
  {
   "cell_type": "code",
   "execution_count": 135,
   "id": "96858eed-6a51-4669-9d24-bf3fd09d8813",
   "metadata": {},
   "outputs": [
    {
     "data": {
      "image/png": "[encoded data removed]",
      "text/plain": [
       "<Figure size 1200x1000 with 2 Axes>"
      ]
     },
     "metadata": {},
     "output_type": "display_data"
    }
   ],
   "source": [
    "interval_cols = ['monthly_charges', 'total_charges', 'duration']\n",
    "\n",
    "\n",
    "# number of bins for interval col\n",
    "bins = {\n",
    "    'monthly_charges': 5,\n",
    "    'total_charges': 5,\n",
    "    'duration': 5,\n",
    "}\n",
    "\n",
    "# calculate phik \n",
    "phik_matrix = df_combined.phik_matrix(interval_cols=interval_cols, bins=bins)\n",
    "\n",
    "# visual matrix \n",
    "plt.figure(figsize=(12, 10))\n",
    "sns.heatmap(phik_matrix, cmap='coolwarm', center=0, annot=True, fmt=\".2f\")\n",
    "plt.title(\"Phik Correlation Matrix\")\n",
    "plt.show()"
   ]
  },
  {
   "cell_type": "code",
   "execution_count": 136,
   "id": "61521055-d13f-4dae-82c9-28b702b1050d",
   "metadata": {},
   "outputs": [
    {
     "data": {
      "text/html": [
       "<div>\n",
       "<style scoped>\n",
       "    .dataframe tbody tr th:only-of-type {\n",
       "        vertical-align: middle;\n",
       "    }\n",
       "\n",
       "    .dataframe tbody tr th {\n",
       "        vertical-align: top;\n",
       "    }\n",
       "\n",
       "    .dataframe thead th {\n",
       "        text-align: right;\n",
       "    }\n",
       "</style>\n",
       "<table border=\"1\" class=\"dataframe\">\n",
       "  <thead>\n",
       "    <tr style=\"text-align: right;\">\n",
       "      <th></th>\n",
       "      <th>type</th>\n",
       "      <th>paperless_billing</th>\n",
       "      <th>payment_method</th>\n",
       "      <th>monthly_charges</th>\n",
       "      <th>total_charges</th>\n",
       "      <th>senior_citizen</th>\n",
       "      <th>partner</th>\n",
       "      <th>dependents</th>\n",
       "      <th>internet_service</th>\n",
       "      <th>online_security</th>\n",
       "      <th>online_backup</th>\n",
       "      <th>device_protection</th>\n",
       "      <th>tech_support</th>\n",
       "      <th>streaming_tv</th>\n",
       "      <th>streaming_movies</th>\n",
       "      <th>multiple_lines</th>\n",
       "      <th>duration</th>\n",
       "      <th>churn</th>\n",
       "    </tr>\n",
       "  </thead>\n",
       "  <tbody>\n",
       "    <tr>\n",
       "      <th>type</th>\n",
       "      <td>1.000000</td>\n",
       "      <td>0.106860</td>\n",
       "      <td>0.277462</td>\n",
       "      <td>0.238576</td>\n",
       "      <td>0.355137</td>\n",
       "      <td>0.086231</td>\n",
       "      <td>0.179736</td>\n",
       "      <td>0.147680</td>\n",
       "      <td>0.505187</td>\n",
       "      <td>0.152145</td>\n",
       "      <td>0.098884</td>\n",
       "      <td>0.137610</td>\n",
       "      <td>0.179999</td>\n",
       "      <td>0.066961</td>\n",
       "      <td>0.069608</td>\n",
       "      <td>0.065498</td>\n",
       "      <td>0.525441</td>\n",
       "      <td>0.094015</td>\n",
       "    </tr>\n",
       "    <tr>\n",
       "      <th>paperless_billing</th>\n",
       "      <td>0.106860</td>\n",
       "      <td>1.000000</td>\n",
       "      <td>0.370495</td>\n",
       "      <td>0.286875</td>\n",
       "      <td>0.123508</td>\n",
       "      <td>0.242133</td>\n",
       "      <td>0.013218</td>\n",
       "      <td>0.172593</td>\n",
       "      <td>0.231438</td>\n",
       "      <td>0.000000</td>\n",
       "      <td>0.196443</td>\n",
       "      <td>0.160796</td>\n",
       "      <td>0.055929</td>\n",
       "      <td>0.343524</td>\n",
       "      <td>0.325551</td>\n",
       "      <td>0.252972</td>\n",
       "      <td>0.000000</td>\n",
       "      <td>0.083398</td>\n",
       "    </tr>\n",
       "    <tr>\n",
       "      <th>payment_method</th>\n",
       "      <td>0.277462</td>\n",
       "      <td>0.370495</td>\n",
       "      <td>1.000000</td>\n",
       "      <td>0.285340</td>\n",
       "      <td>0.214287</td>\n",
       "      <td>0.292725</td>\n",
       "      <td>0.243008</td>\n",
       "      <td>0.224903</td>\n",
       "      <td>0.323886</td>\n",
       "      <td>0.262911</td>\n",
       "      <td>0.282475</td>\n",
       "      <td>0.306866</td>\n",
       "      <td>0.272101</td>\n",
       "      <td>0.377209</td>\n",
       "      <td>0.378907</td>\n",
       "      <td>0.339313</td>\n",
       "      <td>0.251915</td>\n",
       "      <td>0.214832</td>\n",
       "    </tr>\n",
       "    <tr>\n",
       "      <th>monthly_charges</th>\n",
       "      <td>0.238576</td>\n",
       "      <td>0.286875</td>\n",
       "      <td>0.285340</td>\n",
       "      <td>1.000000</td>\n",
       "      <td>0.743923</td>\n",
       "      <td>0.173521</td>\n",
       "      <td>0.112042</td>\n",
       "      <td>0.100616</td>\n",
       "      <td>0.790972</td>\n",
       "      <td>0.276009</td>\n",
       "      <td>0.363550</td>\n",
       "      <td>0.405946</td>\n",
       "      <td>0.294312</td>\n",
       "      <td>0.539293</td>\n",
       "      <td>0.537369</td>\n",
       "      <td>0.421389</td>\n",
       "      <td>0.377175</td>\n",
       "      <td>0.140620</td>\n",
       "    </tr>\n",
       "    <tr>\n",
       "      <th>total_charges</th>\n",
       "      <td>0.355137</td>\n",
       "      <td>0.123508</td>\n",
       "      <td>0.214287</td>\n",
       "      <td>0.743923</td>\n",
       "      <td>1.000000</td>\n",
       "      <td>0.079694</td>\n",
       "      <td>0.214849</td>\n",
       "      <td>0.033319</td>\n",
       "      <td>0.401135</td>\n",
       "      <td>0.320572</td>\n",
       "      <td>0.386316</td>\n",
       "      <td>0.397059</td>\n",
       "      <td>0.339268</td>\n",
       "      <td>0.399952</td>\n",
       "      <td>0.402600</td>\n",
       "      <td>0.329854</td>\n",
       "      <td>0.852888</td>\n",
       "      <td>0.168004</td>\n",
       "    </tr>\n",
       "    <tr>\n",
       "      <th>senior_citizen</th>\n",
       "      <td>0.086231</td>\n",
       "      <td>0.242133</td>\n",
       "      <td>0.292725</td>\n",
       "      <td>0.173521</td>\n",
       "      <td>0.079694</td>\n",
       "      <td>1.000000</td>\n",
       "      <td>0.016992</td>\n",
       "      <td>0.324576</td>\n",
       "      <td>0.160702</td>\n",
       "      <td>0.057028</td>\n",
       "      <td>0.102065</td>\n",
       "      <td>0.090686</td>\n",
       "      <td>0.092565</td>\n",
       "      <td>0.163120</td>\n",
       "      <td>0.186141</td>\n",
       "      <td>0.221313</td>\n",
       "      <td>0.027470</td>\n",
       "      <td>0.086159</td>\n",
       "    </tr>\n",
       "    <tr>\n",
       "      <th>partner</th>\n",
       "      <td>0.179736</td>\n",
       "      <td>0.013218</td>\n",
       "      <td>0.243008</td>\n",
       "      <td>0.112042</td>\n",
       "      <td>0.214849</td>\n",
       "      <td>0.016992</td>\n",
       "      <td>1.000000</td>\n",
       "      <td>0.652122</td>\n",
       "      <td>0.000000</td>\n",
       "      <td>0.221673</td>\n",
       "      <td>0.219223</td>\n",
       "      <td>0.238079</td>\n",
       "      <td>0.185993</td>\n",
       "      <td>0.193258</td>\n",
       "      <td>0.182011</td>\n",
       "      <td>0.220101</td>\n",
       "      <td>0.272507</td>\n",
       "      <td>0.226688</td>\n",
       "    </tr>\n",
       "    <tr>\n",
       "      <th>dependents</th>\n",
       "      <td>0.147680</td>\n",
       "      <td>0.172593</td>\n",
       "      <td>0.224903</td>\n",
       "      <td>0.100616</td>\n",
       "      <td>0.033319</td>\n",
       "      <td>0.324576</td>\n",
       "      <td>0.652122</td>\n",
       "      <td>1.000000</td>\n",
       "      <td>0.108463</td>\n",
       "      <td>0.124945</td>\n",
       "      <td>0.031533</td>\n",
       "      <td>0.010416</td>\n",
       "      <td>0.096912</td>\n",
       "      <td>0.017331</td>\n",
       "      <td>0.058999</td>\n",
       "      <td>0.033103</td>\n",
       "      <td>0.118461</td>\n",
       "      <td>0.046871</td>\n",
       "    </tr>\n",
       "    <tr>\n",
       "      <th>internet_service</th>\n",
       "      <td>0.505187</td>\n",
       "      <td>0.231438</td>\n",
       "      <td>0.323886</td>\n",
       "      <td>0.790972</td>\n",
       "      <td>0.401135</td>\n",
       "      <td>0.160702</td>\n",
       "      <td>0.000000</td>\n",
       "      <td>0.108463</td>\n",
       "      <td>1.000000</td>\n",
       "      <td>0.241421</td>\n",
       "      <td>0.233602</td>\n",
       "      <td>0.232916</td>\n",
       "      <td>0.239663</td>\n",
       "      <td>0.272818</td>\n",
       "      <td>0.272782</td>\n",
       "      <td>0.225383</td>\n",
       "      <td>0.026601</td>\n",
       "      <td>0.056621</td>\n",
       "    </tr>\n",
       "    <tr>\n",
       "      <th>online_security</th>\n",
       "      <td>0.152145</td>\n",
       "      <td>0.000000</td>\n",
       "      <td>0.262911</td>\n",
       "      <td>0.276009</td>\n",
       "      <td>0.320572</td>\n",
       "      <td>0.057028</td>\n",
       "      <td>0.221673</td>\n",
       "      <td>0.124945</td>\n",
       "      <td>0.241421</td>\n",
       "      <td>1.000000</td>\n",
       "      <td>0.430425</td>\n",
       "      <td>0.418474</td>\n",
       "      <td>0.528391</td>\n",
       "      <td>0.272186</td>\n",
       "      <td>0.289097</td>\n",
       "      <td>0.151886</td>\n",
       "      <td>0.240562</td>\n",
       "      <td>0.132594</td>\n",
       "    </tr>\n",
       "    <tr>\n",
       "      <th>online_backup</th>\n",
       "      <td>0.098884</td>\n",
       "      <td>0.196443</td>\n",
       "      <td>0.282475</td>\n",
       "      <td>0.363550</td>\n",
       "      <td>0.386316</td>\n",
       "      <td>0.102065</td>\n",
       "      <td>0.219223</td>\n",
       "      <td>0.031533</td>\n",
       "      <td>0.233602</td>\n",
       "      <td>0.430425</td>\n",
       "      <td>1.000000</td>\n",
       "      <td>0.458211</td>\n",
       "      <td>0.445130</td>\n",
       "      <td>0.428007</td>\n",
       "      <td>0.417170</td>\n",
       "      <td>0.311403</td>\n",
       "      <td>0.253838</td>\n",
       "      <td>0.229482</td>\n",
       "    </tr>\n",
       "    <tr>\n",
       "      <th>device_protection</th>\n",
       "      <td>0.137610</td>\n",
       "      <td>0.160796</td>\n",
       "      <td>0.306866</td>\n",
       "      <td>0.405946</td>\n",
       "      <td>0.397059</td>\n",
       "      <td>0.090686</td>\n",
       "      <td>0.238079</td>\n",
       "      <td>0.010416</td>\n",
       "      <td>0.232916</td>\n",
       "      <td>0.418474</td>\n",
       "      <td>0.458211</td>\n",
       "      <td>1.000000</td>\n",
       "      <td>0.499267</td>\n",
       "      <td>0.575536</td>\n",
       "      <td>0.589888</td>\n",
       "      <td>0.309757</td>\n",
       "      <td>0.260272</td>\n",
       "      <td>0.218380</td>\n",
       "    </tr>\n",
       "    <tr>\n",
       "      <th>tech_support</th>\n",
       "      <td>0.179999</td>\n",
       "      <td>0.055929</td>\n",
       "      <td>0.272101</td>\n",
       "      <td>0.294312</td>\n",
       "      <td>0.339268</td>\n",
       "      <td>0.092565</td>\n",
       "      <td>0.185993</td>\n",
       "      <td>0.096912</td>\n",
       "      <td>0.239663</td>\n",
       "      <td>0.528391</td>\n",
       "      <td>0.445130</td>\n",
       "      <td>0.499267</td>\n",
       "      <td>1.000000</td>\n",
       "      <td>0.422242</td>\n",
       "      <td>0.424078</td>\n",
       "      <td>0.155739</td>\n",
       "      <td>0.245034</td>\n",
       "      <td>0.103652</td>\n",
       "    </tr>\n",
       "    <tr>\n",
       "      <th>streaming_tv</th>\n",
       "      <td>0.066961</td>\n",
       "      <td>0.343524</td>\n",
       "      <td>0.377209</td>\n",
       "      <td>0.539293</td>\n",
       "      <td>0.399952</td>\n",
       "      <td>0.163120</td>\n",
       "      <td>0.193258</td>\n",
       "      <td>0.017331</td>\n",
       "      <td>0.272818</td>\n",
       "      <td>0.272186</td>\n",
       "      <td>0.428007</td>\n",
       "      <td>0.575536</td>\n",
       "      <td>0.422242</td>\n",
       "      <td>1.000000</td>\n",
       "      <td>0.742479</td>\n",
       "      <td>0.392239</td>\n",
       "      <td>0.203499</td>\n",
       "      <td>0.200198</td>\n",
       "    </tr>\n",
       "    <tr>\n",
       "      <th>streaming_movies</th>\n",
       "      <td>0.069608</td>\n",
       "      <td>0.325551</td>\n",
       "      <td>0.378907</td>\n",
       "      <td>0.537369</td>\n",
       "      <td>0.402600</td>\n",
       "      <td>0.186141</td>\n",
       "      <td>0.182011</td>\n",
       "      <td>0.058999</td>\n",
       "      <td>0.272782</td>\n",
       "      <td>0.289097</td>\n",
       "      <td>0.417170</td>\n",
       "      <td>0.589888</td>\n",
       "      <td>0.424078</td>\n",
       "      <td>0.742479</td>\n",
       "      <td>1.000000</td>\n",
       "      <td>0.394553</td>\n",
       "      <td>0.198781</td>\n",
       "      <td>0.222232</td>\n",
       "    </tr>\n",
       "    <tr>\n",
       "      <th>multiple_lines</th>\n",
       "      <td>0.065498</td>\n",
       "      <td>0.252972</td>\n",
       "      <td>0.339313</td>\n",
       "      <td>0.421389</td>\n",
       "      <td>0.329854</td>\n",
       "      <td>0.221313</td>\n",
       "      <td>0.220101</td>\n",
       "      <td>0.033103</td>\n",
       "      <td>0.225383</td>\n",
       "      <td>0.151886</td>\n",
       "      <td>0.311403</td>\n",
       "      <td>0.309757</td>\n",
       "      <td>0.155739</td>\n",
       "      <td>0.392239</td>\n",
       "      <td>0.394553</td>\n",
       "      <td>1.000000</td>\n",
       "      <td>0.240079</td>\n",
       "      <td>0.261237</td>\n",
       "    </tr>\n",
       "    <tr>\n",
       "      <th>duration</th>\n",
       "      <td>0.525441</td>\n",
       "      <td>0.000000</td>\n",
       "      <td>0.251915</td>\n",
       "      <td>0.377175</td>\n",
       "      <td>0.852888</td>\n",
       "      <td>0.027470</td>\n",
       "      <td>0.272507</td>\n",
       "      <td>0.118461</td>\n",
       "      <td>0.026601</td>\n",
       "      <td>0.240562</td>\n",
       "      <td>0.253838</td>\n",
       "      <td>0.260272</td>\n",
       "      <td>0.245034</td>\n",
       "      <td>0.203499</td>\n",
       "      <td>0.198781</td>\n",
       "      <td>0.240079</td>\n",
       "      <td>1.000000</td>\n",
       "      <td>0.228069</td>\n",
       "    </tr>\n",
       "    <tr>\n",
       "      <th>churn</th>\n",
       "      <td>0.094015</td>\n",
       "      <td>0.083398</td>\n",
       "      <td>0.214832</td>\n",
       "      <td>0.140620</td>\n",
       "      <td>0.168004</td>\n",
       "      <td>0.086159</td>\n",
       "      <td>0.226688</td>\n",
       "      <td>0.046871</td>\n",
       "      <td>0.056621</td>\n",
       "      <td>0.132594</td>\n",
       "      <td>0.229482</td>\n",
       "      <td>0.218380</td>\n",
       "      <td>0.103652</td>\n",
       "      <td>0.200198</td>\n",
       "      <td>0.222232</td>\n",
       "      <td>0.261237</td>\n",
       "      <td>0.228069</td>\n",
       "      <td>1.000000</td>\n",
       "    </tr>\n",
       "  </tbody>\n",
       "</table>\n",
       "</div>"
      ],
      "text/plain": [
       "                       type  paperless_billing  payment_method  \\\n",
       "type               1.000000           0.106860        0.277462   \n",
       "paperless_billing  0.106860           1.000000        0.370495   \n",
       "payment_method     0.277462           0.370495        1.000000   \n",
       "monthly_charges    0.238576           0.286875        0.285340   \n",
       "total_charges      0.355137           0.123508        0.214287   \n",
       "senior_citizen     0.086231           0.242133        0.292725   \n",
       "partner            0.179736           0.013218        0.243008   \n",
       "dependents         0.147680           0.172593        0.224903   \n",
       "internet_service   0.505187           0.231438        0.323886   \n",
       "online_security    0.152145           0.000000        0.262911   \n",
       "online_backup      0.098884           0.196443        0.282475   \n",
       "device_protection  0.137610           0.160796        0.306866   \n",
       "tech_support       0.179999           0.055929        0.272101   \n",
       "streaming_tv       0.066961           0.343524        0.377209   \n",
       "streaming_movies   0.069608           0.325551        0.378907   \n",
       "multiple_lines     0.065498           0.252972        0.339313   \n",
       "duration           0.525441           0.000000        0.251915   \n",
       "churn              0.094015           0.083398        0.214832   \n",
       "\n",
       "                   monthly_charges  total_charges  senior_citizen   partner  \\\n",
       "type                      0.238576       0.355137        0.086231  0.179736   \n",
       "paperless_billing         0.286875       0.123508        0.242133  0.013218   \n",
       "payment_method            0.285340       0.214287        0.292725  0.243008   \n",
       "monthly_charges           1.000000       0.743923        0.173521  0.112042   \n",
       "total_charges             0.743923       1.000000        0.079694  0.214849   \n",
       "senior_citizen            0.173521       0.079694        1.000000  0.016992   \n",
       "partner                   0.112042       0.214849        0.016992  1.000000   \n",
       "dependents                0.100616       0.033319        0.324576  0.652122   \n",
       "internet_service          0.790972       0.401135        0.160702  0.000000   \n",
       "online_security           0.276009       0.320572        0.057028  0.221673   \n",
       "online_backup             0.363550       0.386316        0.102065  0.219223   \n",
       "device_protection         0.405946       0.397059        0.090686  0.238079   \n",
       "tech_support              0.294312       0.339268        0.092565  0.185993   \n",
       "streaming_tv              0.539293       0.399952        0.163120  0.193258   \n",
       "streaming_movies          0.537369       0.402600        0.186141  0.182011   \n",
       "multiple_lines            0.421389       0.329854        0.221313  0.220101   \n",
       "duration                  0.377175       0.852888        0.027470  0.272507   \n",
       "churn                     0.140620       0.168004        0.086159  0.226688   \n",
       "\n",
       "                   dependents  internet_service  online_security  \\\n",
       "type                 0.147680          0.505187         0.152145   \n",
       "paperless_billing    0.172593          0.231438         0.000000   \n",
       "payment_method       0.224903          0.323886         0.262911   \n",
       "monthly_charges      0.100616          0.790972         0.276009   \n",
       "total_charges        0.033319          0.401135         0.320572   \n",
       "senior_citizen       0.324576          0.160702         0.057028   \n",
       "partner              0.652122          0.000000         0.221673   \n",
       "dependents           1.000000          0.108463         0.124945   \n",
       "internet_service     0.108463          1.000000         0.241421   \n",
       "online_security      0.124945          0.241421         1.000000   \n",
       "online_backup        0.031533          0.233602         0.430425   \n",
       "device_protection    0.010416          0.232916         0.418474   \n",
       "tech_support         0.096912          0.239663         0.528391   \n",
       "streaming_tv         0.017331          0.272818         0.272186   \n",
       "streaming_movies     0.058999          0.272782         0.289097   \n",
       "multiple_lines       0.033103          0.225383         0.151886   \n",
       "duration             0.118461          0.026601         0.240562   \n",
       "churn                0.046871          0.056621         0.132594   \n",
       "\n",
       "                   online_backup  device_protection  tech_support  \\\n",
       "type                    0.098884           0.137610      0.179999   \n",
       "paperless_billing       0.196443           0.160796      0.055929   \n",
       "payment_method          0.282475           0.306866      0.272101   \n",
       "monthly_charges         0.363550           0.405946      0.294312   \n",
       "total_charges           0.386316           0.397059      0.339268   \n",
       "senior_citizen          0.102065           0.090686      0.092565   \n",
       "partner                 0.219223           0.238079      0.185993   \n",
       "dependents              0.031533           0.010416      0.096912   \n",
       "internet_service        0.233602           0.232916      0.239663   \n",
       "online_security         0.430425           0.418474      0.528391   \n",
       "online_backup           1.000000           0.458211      0.445130   \n",
       "device_protection       0.458211           1.000000      0.499267   \n",
       "tech_support            0.445130           0.499267      1.000000   \n",
       "streaming_tv            0.428007           0.575536      0.422242   \n",
       "streaming_movies        0.417170           0.589888      0.424078   \n",
       "multiple_lines          0.311403           0.309757      0.155739   \n",
       "duration                0.253838           0.260272      0.245034   \n",
       "churn                   0.229482           0.218380      0.103652   \n",
       "\n",
       "                   streaming_tv  streaming_movies  multiple_lines  duration  \\\n",
       "type                   0.066961          0.069608        0.065498  0.525441   \n",
       "paperless_billing      0.343524          0.325551        0.252972  0.000000   \n",
       "payment_method         0.377209          0.378907        0.339313  0.251915   \n",
       "monthly_charges        0.539293          0.537369        0.421389  0.377175   \n",
       "total_charges          0.399952          0.402600        0.329854  0.852888   \n",
       "senior_citizen         0.163120          0.186141        0.221313  0.027470   \n",
       "partner                0.193258          0.182011        0.220101  0.272507   \n",
       "dependents             0.017331          0.058999        0.033103  0.118461   \n",
       "internet_service       0.272818          0.272782        0.225383  0.026601   \n",
       "online_security        0.272186          0.289097        0.151886  0.240562   \n",
       "online_backup          0.428007          0.417170        0.311403  0.253838   \n",
       "device_protection      0.575536          0.589888        0.309757  0.260272   \n",
       "tech_support           0.422242          0.424078        0.155739  0.245034   \n",
       "streaming_tv           1.000000          0.742479        0.392239  0.203499   \n",
       "streaming_movies       0.742479          1.000000        0.394553  0.198781   \n",
       "multiple_lines         0.392239          0.394553        1.000000  0.240079   \n",
       "duration               0.203499          0.198781        0.240079  1.000000   \n",
       "churn                  0.200198          0.222232        0.261237  0.228069   \n",
       "\n",
       "                      churn  \n",
       "type               0.094015  \n",
       "paperless_billing  0.083398  \n",
       "payment_method     0.214832  \n",
       "monthly_charges    0.140620  \n",
       "total_charges      0.168004  \n",
       "senior_citizen     0.086159  \n",
       "partner            0.226688  \n",
       "dependents         0.046871  \n",
       "internet_service   0.056621  \n",
       "online_security    0.132594  \n",
       "online_backup      0.229482  \n",
       "device_protection  0.218380  \n",
       "tech_support       0.103652  \n",
       "streaming_tv       0.200198  \n",
       "streaming_movies   0.222232  \n",
       "multiple_lines     0.261237  \n",
       "duration           0.228069  \n",
       "churn              1.000000  "
      ]
     },
     "metadata": {},
     "output_type": "display_data"
    }
   ],
   "source": [
    "display(phik_matrix)"
   ]
  },
  {
   "cell_type": "markdown",
   "id": "1b58be1b-46e6-4486-893a-835bc10f6a37",
   "metadata": {},
   "source": [
    "- There is a strong correlation between `monthly_charges` and `total_charges` (0.74). This can be explained by the fact that total charges are the sum of monthly payments over a certain period. One of these features could be excluded, as they contain redundant information.  \n",
    "- The correlation between `internet_service` and `monthly_charges` (0.79) indicates that customers with expensive internet services tend to have higher monthly payments.  \n",
    "- The contract duration (`duration`) and `total_charges` are closely related, as the duration directly impacts the total amount of payments.  "
   ]
  },
  {
   "cell_type": "markdown",
   "id": "789eeb4d-d2d5-4943-bae1-6eb40e18a4b6",
   "metadata": {},
   "source": [
    "Lets remove `monthly_charges`"
   ]
  },
  {
   "cell_type": "code",
   "execution_count": 139,
   "id": "9600f6c1-e985-4386-b086-b74114e0c8bd",
   "metadata": {},
   "outputs": [],
   "source": [
    "df_combined = df_combined.drop(columns=['monthly_charges'])"
   ]
  },
  {
   "cell_type": "markdown",
   "id": "d7d4b00c-42dc-467d-9281-cac088e6ad1f",
   "metadata": {},
   "source": [
    "Check the dupliactes after feature removal "
   ]
  },
  {
   "cell_type": "code",
   "execution_count": 141,
   "id": "b050136c-9553-4de0-a7be-e5cfbb21e062",
   "metadata": {},
   "outputs": [
    {
     "name": "stdout",
     "output_type": "stream",
     "text": [
      "15\n"
     ]
    }
   ],
   "source": [
    "print(df_combined.duplicated().sum())"
   ]
  },
  {
   "cell_type": "markdown",
   "id": "8610c34c-dfbb-4b80-9e23-d036e925d905",
   "metadata": {},
   "source": [
    "Delete the duplicates"
   ]
  },
  {
   "cell_type": "code",
   "execution_count": 143,
   "id": "51730bca-3bb2-442f-bf9d-51959d8ac7e1",
   "metadata": {},
   "outputs": [
    {
     "name": "stdout",
     "output_type": "stream",
     "text": [
      "(7043, 17)\n",
      "(7028, 17)\n"
     ]
    }
   ],
   "source": [
    "shape_before = df_combined.shape\n",
    "print(shape_before)\n",
    "df_combined = df_combined.drop_duplicates()\n",
    "shape_after = df_combined.shape\n",
    "print(shape_after)\n"
   ]
  },
  {
   "cell_type": "markdown",
   "id": "dd349611-2929-49c2-95bc-b80a19c45c5b",
   "metadata": {},
   "source": [
    "## Data Preparation"
   ]
  },
  {
   "cell_type": "markdown",
   "id": "09359134-43aa-4b8c-829c-9cee2ad95439",
   "metadata": {},
   "source": [
    "At this stage, we will take the following steps:\n",
    "\n",
    "1. **Split the Dataset**:\n",
    "   - Divide the dataset into training and test sets.\n",
    "   - The target feature is `churn` (customer churn).\n",
    "\n",
    "2. **Process Numerical and Categorical Features in a Pipeline**:\n",
    "   - For **numerical features**, apply `StandardScaler()` and `MinMaxScaler()` for normalization and scaling.  \n",
    "   - For **categorical features**, use `OneHotEncoder` to encode categorical data.  "
   ]
  },
  {
   "cell_type": "markdown",
   "id": "3fc558b6-1084-4de9-b8c9-ed35175a0e6e",
   "metadata": {},
   "source": [
    "Split the data into two sets"
   ]
  },
  {
   "cell_type": "code",
   "execution_count": 147,
   "id": "c33c7815-64a5-44ce-b868-329a4d5c3e8a",
   "metadata": {},
   "outputs": [],
   "source": [
    "X = df_combined.drop(['churn'], axis=1)\n",
    "y = df_combined['churn']\n",
    "\n",
    "X_train, X_test, y_train, y_test = train_test_split(\n",
    "    X,\n",
    "    y,\n",
    "    test_size = TEST_SIZE, \n",
    "    random_state = RANDOM_STATE,\n",
    "    stratify = y\n",
    ")"
   ]
  },
  {
   "cell_type": "markdown",
   "id": "3dd71fdb-03c3-41d7-b456-acc4433da6b9",
   "metadata": {},
   "source": [
    "Define the numerical and categorical features."
   ]
  },
  {
   "cell_type": "code",
   "execution_count": 149,
   "id": "00aea464-49fc-4635-afcd-71ad0a4ffcf0",
   "metadata": {},
   "outputs": [],
   "source": [
    "numerical_features = ['total_charges', 'duration']\n",
    "categorical_features = ['type', \n",
    "                        'paperless_billing', \n",
    "                        'payment_method', \n",
    "                        'senior_citizen', \n",
    "                        'partner', \n",
    "                        'dependents', \n",
    "                        'internet_service', \n",
    "                        'online_security',\n",
    "                        'online_backup',\n",
    "                        'device_protection', \n",
    "                        'tech_support',\n",
    "                        'streaming_tv',\n",
    "                        'streaming_movies', \n",
    "                        'multiple_lines'\n",
    "                       ]\n",
    "\n",
    "preprocessor = ColumnTransformer(\n",
    "    transformers=[\n",
    "        ('num', Pipeline([\n",
    "            ('imputer', SimpleImputer(strategy='mean')),  # Fill missing values with mean\n",
    "            ('scaler', StandardScaler())\n",
    "        ]), numerical_features),\n",
    "        ('cat', Pipeline([\n",
    "            ('imputer', SimpleImputer(strategy='most_frequent')),  # Fill missing values with the most frequent value\n",
    "            ('onehot', OneHotEncoder(handle_unknown='ignore'))\n",
    "        ]), categorical_features)\n",
    "    ]\n",
    ")\n",
    "\n"
   ]
  },
  {
   "cell_type": "markdown",
   "id": "71646bf9-cbce-4887-bff9-8f50c7691094",
   "metadata": {},
   "source": [
    "## Training Machine Learning Models"
   ]
  },
  {
   "cell_type": "markdown",
   "id": "ff3c1654-d4bc-408f-b4fb-b75db9c80eb8",
   "metadata": {},
   "source": [
    "### Training the model on the training set."
   ]
  },
  {
   "cell_type": "markdown",
   "id": "32bb9e07-f55f-40f9-be0b-ac0c17df6802",
   "metadata": {},
   "source": [
    "1. **Prepare the Final Pipeline and Parameter Dictionary**:  \n",
    "   - Set up pipelines for the following models:  \n",
    "     - `DecisionTreeClassifier()`\n",
    "     - `LogisticRegression()`\n",
    "     - `RandomForestClassifier()`\n",
    "     - `LGBMClassifier()`  \n",
    "   - Include hyperparameters for each model in the dictionary for optimization.\n",
    "\n",
    "2. **Evaluation Metric**:  \n",
    "   - Use **ROC AUC** as the performance metric for model evaluation.  "
   ]
  },
  {
   "cell_type": "code",
   "execution_count": 153,
   "id": "b6cdb7fa-90af-42b4-ada7-1e68c96351f1",
   "metadata": {},
   "outputs": [],
   "source": [
    "\n",
    "# Create the final pipeline: data preparation and model.\n",
    "\n",
    "pipe_final = Pipeline(steps=[\n",
    "    ('preprocessor', preprocessor),\n",
    "    ('classifier', LogisticRegression())\n",
    "])\n",
    "\n",
    "param_grid = [\n",
    "    # Parameters for DecisionTreeClassifier\n",
    "    {\n",
    "        'classifier': [DecisionTreeClassifier(random_state=RANDOM_STATE)],\n",
    "        'classifier__max_depth': range(2, 20),\n",
    "        'classifier__max_features': range(1, X_train.shape[1] + 1),\n",
    "        'preprocessor__num': [StandardScaler(), MinMaxScaler(), 'passthrough']\n",
    "    },\n",
    "    \n",
    "    # Parameters for LogisticRegression\n",
    "    {\n",
    "        'classifier': [LogisticRegression(random_state=RANDOM_STATE, solver='liblinear')],\n",
    "        'classifier__C': np.logspace(-5, 5, 20),\n",
    "        'preprocessor__num': [StandardScaler(), MinMaxScaler(), 'passthrough']\n",
    "    }, \n",
    "   # Parameters for RandomForestClassifier\n",
    "    {\n",
    "    'classifier': [RandomForestClassifier(random_state=RANDOM_STATE)],\n",
    "    'classifier__n_estimators': [100, 200, 300, 500],\n",
    "    'classifier__max_depth': [10, 20, 30, None],\n",
    "    'classifier__min_samples_split': [2, 5, 10, 20],\n",
    "    'classifier__min_samples_leaf': [1, 2, 5, 10],\n",
    "}, \n",
    "    # Parameters for LGBMClassifier\n",
    "    {\n",
    "    'classifier': [LGBMClassifier(random_state=RANDOM_STATE)],\n",
    "    'classifier__num_leaves': [20, 31, 40],\n",
    "    'classifier__learning_rate': [0.01, 0.05, 0.1],\n",
    "    'classifier__n_estimators': [100, 200, 300],\n",
    "    'classifier__max_depth': [-1, 5, 10],\n",
    "    'classifier__min_child_samples': [20, 30, 50],\n",
    "    'classifier__subsample': [0.8, 1.0],\n",
    "    'classifier__colsample_bytree': [0.8, 1.0]\n",
    "}\n",
    "]"
   ]
  },
  {
   "cell_type": "code",
   "execution_count": 154,
   "id": "17cf4b2e-4b85-4d5b-bcb9-5a83e088b31a",
   "metadata": {},
   "outputs": [
    {
     "name": "stdout",
     "output_type": "stream",
     "text": [
      "[LightGBM] [Info] Number of positive: 826, number of negative: 4445\n",
      "[LightGBM] [Info] Auto-choosing row-wise multi-threading, the overhead of testing was 0.001482 seconds.\n",
      "You can set `force_row_wise=true` to remove the overhead.\n",
      "And if memory is not enough, you can set `force_col_wise=true`.\n",
      "[LightGBM] [Info] Total Bins 504\n",
      "[LightGBM] [Info] Number of data points in the train set: 5271, number of used features: 34\n",
      "[LightGBM] [Info] [binary:BoostFromScore]: pavg=0.156707 -> initscore=-1.682940\n",
      "[LightGBM] [Info] Start training from score -1.682940\n",
      "[LightGBM] [Warning] No further splits with positive gain, best gain: -inf\n",
      "[LightGBM] [Warning] No further splits with positive gain, best gain: -inf\n",
      "[LightGBM] [Warning] No further splits with positive gain, best gain: -inf\n",
      "[LightGBM] [Warning] No further splits with positive gain, best gain: -inf\n",
      "[LightGBM] [Warning] No further splits with positive gain, best gain: -inf\n",
      "[LightGBM] [Warning] No further splits with positive gain, best gain: -inf\n",
      "[LightGBM] [Warning] No further splits with positive gain, best gain: -inf\n",
      "[LightGBM] [Warning] No further splits with positive gain, best gain: -inf\n",
      "[LightGBM] [Warning] No further splits with positive gain, best gain: -inf\n",
      "[LightGBM] [Warning] No further splits with positive gain, best gain: -inf\n",
      "[LightGBM] [Warning] No further splits with positive gain, best gain: -inf\n",
      "[LightGBM] [Warning] No further splits with positive gain, best gain: -inf\n",
      "[LightGBM] [Warning] No further splits with positive gain, best gain: -inf\n",
      "[LightGBM] [Warning] No further splits with positive gain, best gain: -inf\n",
      "[LightGBM] [Warning] No further splits with positive gain, best gain: -inf\n",
      "[LightGBM] [Warning] No further splits with positive gain, best gain: -inf\n",
      "[LightGBM] [Warning] No further splits with positive gain, best gain: -inf\n",
      "[LightGBM] [Warning] No further splits with positive gain, best gain: -inf\n",
      "[LightGBM] [Warning] No further splits with positive gain, best gain: -inf\n",
      "[LightGBM] [Warning] No further splits with positive gain, best gain: -inf\n",
      "[LightGBM] [Warning] No further splits with positive gain, best gain: -inf\n",
      "[LightGBM] [Warning] No further splits with positive gain, best gain: -inf\n",
      "[LightGBM] [Warning] No further splits with positive gain, best gain: -inf\n",
      "[LightGBM] [Warning] No further splits with positive gain, best gain: -inf\n",
      "[LightGBM] [Warning] No further splits with positive gain, best gain: -inf\n",
      "[LightGBM] [Warning] No further splits with positive gain, best gain: -inf\n",
      "[LightGBM] [Warning] No further splits with positive gain, best gain: -inf\n",
      "[LightGBM] [Warning] No further splits with positive gain, best gain: -inf\n",
      "[LightGBM] [Warning] No further splits with positive gain, best gain: -inf\n",
      "[LightGBM] [Warning] No further splits with positive gain, best gain: -inf\n",
      "[LightGBM] [Warning] No further splits with positive gain, best gain: -inf\n",
      "[LightGBM] [Warning] No further splits with positive gain, best gain: -inf\n",
      "[LightGBM] [Warning] No further splits with positive gain, best gain: -inf\n",
      "[LightGBM] [Warning] No further splits with positive gain, best gain: -inf\n",
      "[LightGBM] [Warning] No further splits with positive gain, best gain: -inf\n",
      "[LightGBM] [Warning] No further splits with positive gain, best gain: -inf\n",
      "[LightGBM] [Warning] No further splits with positive gain, best gain: -inf\n",
      "[LightGBM] [Warning] No further splits with positive gain, best gain: -inf\n",
      "[LightGBM] [Warning] No further splits with positive gain, best gain: -inf\n",
      "[LightGBM] [Warning] No further splits with positive gain, best gain: -inf\n",
      "[LightGBM] [Warning] No further splits with positive gain, best gain: -inf\n",
      "[LightGBM] [Warning] No further splits with positive gain, best gain: -inf\n",
      "[LightGBM] [Warning] No further splits with positive gain, best gain: -inf\n",
      "[LightGBM] [Warning] No further splits with positive gain, best gain: -inf\n",
      "[LightGBM] [Warning] No further splits with positive gain, best gain: -inf\n",
      "[LightGBM] [Warning] No further splits with positive gain, best gain: -inf\n",
      "[LightGBM] [Warning] No further splits with positive gain, best gain: -inf\n",
      "[LightGBM] [Warning] No further splits with positive gain, best gain: -inf\n",
      "[LightGBM] [Warning] No further splits with positive gain, best gain: -inf\n",
      "[LightGBM] [Warning] No further splits with positive gain, best gain: -inf\n",
      "[LightGBM] [Warning] No further splits with positive gain, best gain: -inf\n",
      "[LightGBM] [Warning] No further splits with positive gain, best gain: -inf\n",
      "[LightGBM] [Warning] No further splits with positive gain, best gain: -inf\n",
      "[LightGBM] [Warning] No further splits with positive gain, best gain: -inf\n",
      "[LightGBM] [Warning] No further splits with positive gain, best gain: -inf\n",
      "[LightGBM] [Warning] No further splits with positive gain, best gain: -inf\n",
      "[LightGBM] [Warning] No further splits with positive gain, best gain: -inf\n",
      "[LightGBM] [Warning] No further splits with positive gain, best gain: -inf\n",
      "[LightGBM] [Warning] No further splits with positive gain, best gain: -inf\n",
      "[LightGBM] [Warning] No further splits with positive gain, best gain: -inf\n",
      "[LightGBM] [Warning] No further splits with positive gain, best gain: -inf\n",
      "[LightGBM] [Warning] No further splits with positive gain, best gain: -inf\n",
      "[LightGBM] [Warning] No further splits with positive gain, best gain: -inf\n",
      "[LightGBM] [Warning] No further splits with positive gain, best gain: -inf\n",
      "[LightGBM] [Warning] No further splits with positive gain, best gain: -inf\n",
      "[LightGBM] [Warning] No further splits with positive gain, best gain: -inf\n",
      "[LightGBM] [Warning] No further splits with positive gain, best gain: -inf\n",
      "[LightGBM] [Warning] No further splits with positive gain, best gain: -inf\n",
      "[LightGBM] [Warning] No further splits with positive gain, best gain: -inf\n",
      "[LightGBM] [Warning] No further splits with positive gain, best gain: -inf\n",
      "[LightGBM] [Warning] No further splits with positive gain, best gain: -inf\n",
      "[LightGBM] [Warning] No further splits with positive gain, best gain: -inf\n",
      "[LightGBM] [Warning] No further splits with positive gain, best gain: -inf\n",
      "[LightGBM] [Warning] No further splits with positive gain, best gain: -inf\n",
      "[LightGBM] [Warning] No further splits with positive gain, best gain: -inf\n",
      "[LightGBM] [Warning] No further splits with positive gain, best gain: -inf\n",
      "[LightGBM] [Warning] No further splits with positive gain, best gain: -inf\n",
      "[LightGBM] [Warning] No further splits with positive gain, best gain: -inf\n",
      "[LightGBM] [Warning] No further splits with positive gain, best gain: -inf\n",
      "[LightGBM] [Warning] No further splits with positive gain, best gain: -inf\n",
      "[LightGBM] [Warning] No further splits with positive gain, best gain: -inf\n",
      "[LightGBM] [Warning] No further splits with positive gain, best gain: -inf\n",
      "[LightGBM] [Warning] No further splits with positive gain, best gain: -inf\n",
      "[LightGBM] [Warning] No further splits with positive gain, best gain: -inf\n",
      "[LightGBM] [Warning] No further splits with positive gain, best gain: -inf\n",
      "[LightGBM] [Warning] No further splits with positive gain, best gain: -inf\n",
      "[LightGBM] [Warning] No further splits with positive gain, best gain: -inf\n",
      "[LightGBM] [Warning] No further splits with positive gain, best gain: -inf\n",
      "[LightGBM] [Warning] No further splits with positive gain, best gain: -inf\n",
      "[LightGBM] [Warning] No further splits with positive gain, best gain: -inf\n",
      "[LightGBM] [Warning] No further splits with positive gain, best gain: -inf\n",
      "[LightGBM] [Warning] No further splits with positive gain, best gain: -inf\n",
      "[LightGBM] [Warning] No further splits with positive gain, best gain: -inf\n",
      "[LightGBM] [Warning] No further splits with positive gain, best gain: -inf\n",
      "[LightGBM] [Warning] No further splits with positive gain, best gain: -inf\n",
      "[LightGBM] [Warning] No further splits with positive gain, best gain: -inf\n",
      "[LightGBM] [Warning] No further splits with positive gain, best gain: -inf\n",
      "[LightGBM] [Warning] No further splits with positive gain, best gain: -inf\n",
      "[LightGBM] [Warning] No further splits with positive gain, best gain: -inf\n",
      "[LightGBM] [Warning] No further splits with positive gain, best gain: -inf\n",
      "[LightGBM] [Warning] No further splits with positive gain, best gain: -inf\n",
      "[LightGBM] [Warning] No further splits with positive gain, best gain: -inf\n",
      "[LightGBM] [Warning] No further splits with positive gain, best gain: -inf\n",
      "[LightGBM] [Warning] No further splits with positive gain, best gain: -inf\n",
      "[LightGBM] [Warning] No further splits with positive gain, best gain: -inf\n",
      "[LightGBM] [Warning] No further splits with positive gain, best gain: -inf\n",
      "[LightGBM] [Warning] No further splits with positive gain, best gain: -inf\n",
      "[LightGBM] [Warning] No further splits with positive gain, best gain: -inf\n",
      "[LightGBM] [Warning] No further splits with positive gain, best gain: -inf\n",
      "[LightGBM] [Warning] No further splits with positive gain, best gain: -inf\n",
      "[LightGBM] [Warning] No further splits with positive gain, best gain: -inf\n",
      "[LightGBM] [Warning] No further splits with positive gain, best gain: -inf\n",
      "[LightGBM] [Warning] No further splits with positive gain, best gain: -inf\n",
      "[LightGBM] [Warning] No further splits with positive gain, best gain: -inf\n",
      "[LightGBM] [Warning] No further splits with positive gain, best gain: -inf\n",
      "[LightGBM] [Warning] No further splits with positive gain, best gain: -inf\n",
      "[LightGBM] [Warning] No further splits with positive gain, best gain: -inf\n",
      "[LightGBM] [Warning] No further splits with positive gain, best gain: -inf\n",
      "[LightGBM] [Warning] No further splits with positive gain, best gain: -inf\n",
      "[LightGBM] [Warning] No further splits with positive gain, best gain: -inf\n",
      "[LightGBM] [Warning] No further splits with positive gain, best gain: -inf\n",
      "[LightGBM] [Warning] No further splits with positive gain, best gain: -inf\n",
      "[LightGBM] [Warning] No further splits with positive gain, best gain: -inf\n",
      "[LightGBM] [Warning] No further splits with positive gain, best gain: -inf\n",
      "[LightGBM] [Warning] No further splits with positive gain, best gain: -inf\n",
      "[LightGBM] [Warning] No further splits with positive gain, best gain: -inf\n",
      "[LightGBM] [Warning] No further splits with positive gain, best gain: -inf\n",
      "[LightGBM] [Warning] No further splits with positive gain, best gain: -inf\n",
      "[LightGBM] [Warning] No further splits with positive gain, best gain: -inf\n",
      "[LightGBM] [Warning] No further splits with positive gain, best gain: -inf\n",
      "[LightGBM] [Warning] No further splits with positive gain, best gain: -inf\n",
      "[LightGBM] [Warning] No further splits with positive gain, best gain: -inf\n",
      "[LightGBM] [Warning] No further splits with positive gain, best gain: -inf\n",
      "[LightGBM] [Warning] No further splits with positive gain, best gain: -inf\n",
      "[LightGBM] [Warning] No further splits with positive gain, best gain: -inf\n",
      "[LightGBM] [Warning] No further splits with positive gain, best gain: -inf\n",
      "[LightGBM] [Warning] No further splits with positive gain, best gain: -inf\n",
      "[LightGBM] [Warning] No further splits with positive gain, best gain: -inf\n",
      "[LightGBM] [Warning] No further splits with positive gain, best gain: -inf\n",
      "[LightGBM] [Warning] No further splits with positive gain, best gain: -inf\n",
      "[LightGBM] [Warning] No further splits with positive gain, best gain: -inf\n",
      "[LightGBM] [Warning] No further splits with positive gain, best gain: -inf\n",
      "[LightGBM] [Warning] No further splits with positive gain, best gain: -inf\n",
      "[LightGBM] [Warning] No further splits with positive gain, best gain: -inf\n",
      "[LightGBM] [Warning] No further splits with positive gain, best gain: -inf\n",
      "[LightGBM] [Warning] No further splits with positive gain, best gain: -inf\n",
      "[LightGBM] [Warning] No further splits with positive gain, best gain: -inf\n",
      "[LightGBM] [Warning] No further splits with positive gain, best gain: -inf\n",
      "[LightGBM] [Warning] No further splits with positive gain, best gain: -inf\n",
      "[LightGBM] [Warning] No further splits with positive gain, best gain: -inf\n",
      "[LightGBM] [Warning] No further splits with positive gain, best gain: -inf\n",
      "[LightGBM] [Warning] No further splits with positive gain, best gain: -inf\n",
      "[LightGBM] [Warning] No further splits with positive gain, best gain: -inf\n",
      "[LightGBM] [Warning] No further splits with positive gain, best gain: -inf\n",
      "[LightGBM] [Warning] No further splits with positive gain, best gain: -inf\n",
      "[LightGBM] [Warning] No further splits with positive gain, best gain: -inf\n",
      "[LightGBM] [Warning] No further splits with positive gain, best gain: -inf\n",
      "[LightGBM] [Warning] No further splits with positive gain, best gain: -inf\n",
      "[LightGBM] [Warning] No further splits with positive gain, best gain: -inf\n",
      "[LightGBM] [Warning] No further splits with positive gain, best gain: -inf\n",
      "[LightGBM] [Warning] No further splits with positive gain, best gain: -inf\n",
      "[LightGBM] [Warning] No further splits with positive gain, best gain: -inf\n",
      "[LightGBM] [Warning] No further splits with positive gain, best gain: -inf\n",
      "[LightGBM] [Warning] No further splits with positive gain, best gain: -inf\n",
      "[LightGBM] [Warning] No further splits with positive gain, best gain: -inf\n",
      "[LightGBM] [Warning] No further splits with positive gain, best gain: -inf\n",
      "[LightGBM] [Warning] No further splits with positive gain, best gain: -inf\n",
      "[LightGBM] [Warning] No further splits with positive gain, best gain: -inf\n"
     ]
    },
    {
     "data": {
      "text/html": [
       "<style>#sk-container-id-1 {\n",
       "  /* Definition of color scheme common for light and dark mode */\n",
       "  --sklearn-color-text: black;\n",
       "  --sklearn-color-line: gray;\n",
       "  /* Definition of color scheme for unfitted estimators */\n",
       "  --sklearn-color-unfitted-level-0: #fff5e6;\n",
       "  --sklearn-color-unfitted-level-1: #f6e4d2;\n",
       "  --sklearn-color-unfitted-level-2: #ffe0b3;\n",
       "  --sklearn-color-unfitted-level-3: chocolate;\n",
       "  /* Definition of color scheme for fitted estimators */\n",
       "  --sklearn-color-fitted-level-0: #f0f8ff;\n",
       "  --sklearn-color-fitted-level-1: #d4ebff;\n",
       "  --sklearn-color-fitted-level-2: #b3dbfd;\n",
       "  --sklearn-color-fitted-level-3: cornflowerblue;\n",
       "\n",
       "  /* Specific color for light theme */\n",
       "  --sklearn-color-text-on-default-background: var(--sg-text-color, var(--theme-code-foreground, var(--jp-content-font-color1, black)));\n",
       "  --sklearn-color-background: var(--sg-background-color, var(--theme-background, var(--jp-layout-color0, white)));\n",
       "  --sklearn-color-border-box: var(--sg-text-color, var(--theme-code-foreground, var(--jp-content-font-color1, black)));\n",
       "  --sklearn-color-icon: #696969;\n",
       "\n",
       "  @media (prefers-color-scheme: dark) {\n",
       "    /* Redefinition of color scheme for dark theme */\n",
       "    --sklearn-color-text-on-default-background: var(--sg-text-color, var(--theme-code-foreground, var(--jp-content-font-color1, white)));\n",
       "    --sklearn-color-background: var(--sg-background-color, var(--theme-background, var(--jp-layout-color0, #111)));\n",
       "    --sklearn-color-border-box: var(--sg-text-color, var(--theme-code-foreground, var(--jp-content-font-color1, white)));\n",
       "    --sklearn-color-icon: #878787;\n",
       "  }\n",
       "}\n",
       "\n",
       "#sk-container-id-1 {\n",
       "  color: var(--sklearn-color-text);\n",
       "}\n",
       "\n",
       "#sk-container-id-1 pre {\n",
       "  padding: 0;\n",
       "}\n",
       "\n",
       "#sk-container-id-1 input.sk-hidden--visually {\n",
       "  border: 0;\n",
       "  clip: rect(1px 1px 1px 1px);\n",
       "  clip: rect(1px, 1px, 1px, 1px);\n",
       "  height: 1px;\n",
       "  margin: -1px;\n",
       "  overflow: hidden;\n",
       "  padding: 0;\n",
       "  position: absolute;\n",
       "  width: 1px;\n",
       "}\n",
       "\n",
       "#sk-container-id-1 div.sk-dashed-wrapped {\n",
       "  border: 1px dashed var(--sklearn-color-line);\n",
       "  margin: 0 0.4em 0.5em 0.4em;\n",
       "  box-sizing: border-box;\n",
       "  padding-bottom: 0.4em;\n",
       "  background-color: var(--sklearn-color-background);\n",
       "}\n",
       "\n",
       "#sk-container-id-1 div.sk-container {\n",
       "  /* jupyter's `normalize.less` sets `[hidden] { display: none; }`\n",
       "     but bootstrap.min.css set `[hidden] { display: none !important; }`\n",
       "     so we also need the `!important` here to be able to override the\n",
       "     default hidden behavior on the sphinx rendered scikit-learn.org.\n",
       "     See: https://github.com/scikit-learn/scikit-learn/issues/21755 */\n",
       "  display: inline-block !important;\n",
       "  position: relative;\n",
       "}\n",
       "\n",
       "#sk-container-id-1 div.sk-text-repr-fallback {\n",
       "  display: none;\n",
       "}\n",
       "\n",
       "div.sk-parallel-item,\n",
       "div.sk-serial,\n",
       "div.sk-item {\n",
       "  /* draw centered vertical line to link estimators */\n",
       "  background-image: linear-gradient(var(--sklearn-color-text-on-default-background), var(--sklearn-color-text-on-default-background));\n",
       "  background-size: 2px 100%;\n",
       "  background-repeat: no-repeat;\n",
       "  background-position: center center;\n",
       "}\n",
       "\n",
       "/* Parallel-specific style estimator block */\n",
       "\n",
       "#sk-container-id-1 div.sk-parallel-item::after {\n",
       "  content: \"\";\n",
       "  width: 100%;\n",
       "  border-bottom: 2px solid var(--sklearn-color-text-on-default-background);\n",
       "  flex-grow: 1;\n",
       "}\n",
       "\n",
       "#sk-container-id-1 div.sk-parallel {\n",
       "  display: flex;\n",
       "  align-items: stretch;\n",
       "  justify-content: center;\n",
       "  background-color: var(--sklearn-color-background);\n",
       "  position: relative;\n",
       "}\n",
       "\n",
       "#sk-container-id-1 div.sk-parallel-item {\n",
       "  display: flex;\n",
       "  flex-direction: column;\n",
       "}\n",
       "\n",
       "#sk-container-id-1 div.sk-parallel-item:first-child::after {\n",
       "  align-self: flex-end;\n",
       "  width: 50%;\n",
       "}\n",
       "\n",
       "#sk-container-id-1 div.sk-parallel-item:last-child::after {\n",
       "  align-self: flex-start;\n",
       "  width: 50%;\n",
       "}\n",
       "\n",
       "#sk-container-id-1 div.sk-parallel-item:only-child::after {\n",
       "  width: 0;\n",
       "}\n",
       "\n",
       "/* Serial-specific style estimator block */\n",
       "\n",
       "#sk-container-id-1 div.sk-serial {\n",
       "  display: flex;\n",
       "  flex-direction: column;\n",
       "  align-items: center;\n",
       "  background-color: var(--sklearn-color-background);\n",
       "  padding-right: 1em;\n",
       "  padding-left: 1em;\n",
       "}\n",
       "\n",
       "\n",
       "/* Toggleable style: style used for estimator/Pipeline/ColumnTransformer box that is\n",
       "clickable and can be expanded/collapsed.\n",
       "- Pipeline and ColumnTransformer use this feature and define the default style\n",
       "- Estimators will overwrite some part of the style using the `sk-estimator` class\n",
       "*/\n",
       "\n",
       "/* Pipeline and ColumnTransformer style (default) */\n",
       "\n",
       "#sk-container-id-1 div.sk-toggleable {\n",
       "  /* Default theme specific background. It is overwritten whether we have a\n",
       "  specific estimator or a Pipeline/ColumnTransformer */\n",
       "  background-color: var(--sklearn-color-background);\n",
       "}\n",
       "\n",
       "/* Toggleable label */\n",
       "#sk-container-id-1 label.sk-toggleable__label {\n",
       "  cursor: pointer;\n",
       "  display: block;\n",
       "  width: 100%;\n",
       "  margin-bottom: 0;\n",
       "  padding: 0.5em;\n",
       "  box-sizing: border-box;\n",
       "  text-align: center;\n",
       "}\n",
       "\n",
       "#sk-container-id-1 label.sk-toggleable__label-arrow:before {\n",
       "  /* Arrow on the left of the label */\n",
       "  content: \"▸\";\n",
       "  float: left;\n",
       "  margin-right: 0.25em;\n",
       "  color: var(--sklearn-color-icon);\n",
       "}\n",
       "\n",
       "#sk-container-id-1 label.sk-toggleable__label-arrow:hover:before {\n",
       "  color: var(--sklearn-color-text);\n",
       "}\n",
       "\n",
       "/* Toggleable content - dropdown */\n",
       "\n",
       "#sk-container-id-1 div.sk-toggleable__content {\n",
       "  max-height: 0;\n",
       "  max-width: 0;\n",
       "  overflow: hidden;\n",
       "  text-align: left;\n",
       "  /* unfitted */\n",
       "  background-color: var(--sklearn-color-unfitted-level-0);\n",
       "}\n",
       "\n",
       "#sk-container-id-1 div.sk-toggleable__content.fitted {\n",
       "  /* fitted */\n",
       "  background-color: var(--sklearn-color-fitted-level-0);\n",
       "}\n",
       "\n",
       "#sk-container-id-1 div.sk-toggleable__content pre {\n",
       "  margin: 0.2em;\n",
       "  border-radius: 0.25em;\n",
       "  color: var(--sklearn-color-text);\n",
       "  /* unfitted */\n",
       "  background-color: var(--sklearn-color-unfitted-level-0);\n",
       "}\n",
       "\n",
       "#sk-container-id-1 div.sk-toggleable__content.fitted pre {\n",
       "  /* unfitted */\n",
       "  background-color: var(--sklearn-color-fitted-level-0);\n",
       "}\n",
       "\n",
       "#sk-container-id-1 input.sk-toggleable__control:checked~div.sk-toggleable__content {\n",
       "  /* Expand drop-down */\n",
       "  max-height: 200px;\n",
       "  max-width: 100%;\n",
       "  overflow: auto;\n",
       "}\n",
       "\n",
       "#sk-container-id-1 input.sk-toggleable__control:checked~label.sk-toggleable__label-arrow:before {\n",
       "  content: \"▾\";\n",
       "}\n",
       "\n",
       "/* Pipeline/ColumnTransformer-specific style */\n",
       "\n",
       "#sk-container-id-1 div.sk-label input.sk-toggleable__control:checked~label.sk-toggleable__label {\n",
       "  color: var(--sklearn-color-text);\n",
       "  background-color: var(--sklearn-color-unfitted-level-2);\n",
       "}\n",
       "\n",
       "#sk-container-id-1 div.sk-label.fitted input.sk-toggleable__control:checked~label.sk-toggleable__label {\n",
       "  background-color: var(--sklearn-color-fitted-level-2);\n",
       "}\n",
       "\n",
       "/* Estimator-specific style */\n",
       "\n",
       "/* Colorize estimator box */\n",
       "#sk-container-id-1 div.sk-estimator input.sk-toggleable__control:checked~label.sk-toggleable__label {\n",
       "  /* unfitted */\n",
       "  background-color: var(--sklearn-color-unfitted-level-2);\n",
       "}\n",
       "\n",
       "#sk-container-id-1 div.sk-estimator.fitted input.sk-toggleable__control:checked~label.sk-toggleable__label {\n",
       "  /* fitted */\n",
       "  background-color: var(--sklearn-color-fitted-level-2);\n",
       "}\n",
       "\n",
       "#sk-container-id-1 div.sk-label label.sk-toggleable__label,\n",
       "#sk-container-id-1 div.sk-label label {\n",
       "  /* The background is the default theme color */\n",
       "  color: var(--sklearn-color-text-on-default-background);\n",
       "}\n",
       "\n",
       "/* On hover, darken the color of the background */\n",
       "#sk-container-id-1 div.sk-label:hover label.sk-toggleable__label {\n",
       "  color: var(--sklearn-color-text);\n",
       "  background-color: var(--sklearn-color-unfitted-level-2);\n",
       "}\n",
       "\n",
       "/* Label box, darken color on hover, fitted */\n",
       "#sk-container-id-1 div.sk-label.fitted:hover label.sk-toggleable__label.fitted {\n",
       "  color: var(--sklearn-color-text);\n",
       "  background-color: var(--sklearn-color-fitted-level-2);\n",
       "}\n",
       "\n",
       "/* Estimator label */\n",
       "\n",
       "#sk-container-id-1 div.sk-label label {\n",
       "  font-family: monospace;\n",
       "  font-weight: bold;\n",
       "  display: inline-block;\n",
       "  line-height: 1.2em;\n",
       "}\n",
       "\n",
       "#sk-container-id-1 div.sk-label-container {\n",
       "  text-align: center;\n",
       "}\n",
       "\n",
       "/* Estimator-specific */\n",
       "#sk-container-id-1 div.sk-estimator {\n",
       "  font-family: monospace;\n",
       "  border: 1px dotted var(--sklearn-color-border-box);\n",
       "  border-radius: 0.25em;\n",
       "  box-sizing: border-box;\n",
       "  margin-bottom: 0.5em;\n",
       "  /* unfitted */\n",
       "  background-color: var(--sklearn-color-unfitted-level-0);\n",
       "}\n",
       "\n",
       "#sk-container-id-1 div.sk-estimator.fitted {\n",
       "  /* fitted */\n",
       "  background-color: var(--sklearn-color-fitted-level-0);\n",
       "}\n",
       "\n",
       "/* on hover */\n",
       "#sk-container-id-1 div.sk-estimator:hover {\n",
       "  /* unfitted */\n",
       "  background-color: var(--sklearn-color-unfitted-level-2);\n",
       "}\n",
       "\n",
       "#sk-container-id-1 div.sk-estimator.fitted:hover {\n",
       "  /* fitted */\n",
       "  background-color: var(--sklearn-color-fitted-level-2);\n",
       "}\n",
       "\n",
       "/* Specification for estimator info (e.g. \"i\" and \"?\") */\n",
       "\n",
       "/* Common style for \"i\" and \"?\" */\n",
       "\n",
       ".sk-estimator-doc-link,\n",
       "a:link.sk-estimator-doc-link,\n",
       "a:visited.sk-estimator-doc-link {\n",
       "  float: right;\n",
       "  font-size: smaller;\n",
       "  line-height: 1em;\n",
       "  font-family: monospace;\n",
       "  background-color: var(--sklearn-color-background);\n",
       "  border-radius: 1em;\n",
       "  height: 1em;\n",
       "  width: 1em;\n",
       "  text-decoration: none !important;\n",
       "  margin-left: 1ex;\n",
       "  /* unfitted */\n",
       "  border: var(--sklearn-color-unfitted-level-1) 1pt solid;\n",
       "  color: var(--sklearn-color-unfitted-level-1);\n",
       "}\n",
       "\n",
       ".sk-estimator-doc-link.fitted,\n",
       "a:link.sk-estimator-doc-link.fitted,\n",
       "a:visited.sk-estimator-doc-link.fitted {\n",
       "  /* fitted */\n",
       "  border: var(--sklearn-color-fitted-level-1) 1pt solid;\n",
       "  color: var(--sklearn-color-fitted-level-1);\n",
       "}\n",
       "\n",
       "/* On hover */\n",
       "div.sk-estimator:hover .sk-estimator-doc-link:hover,\n",
       ".sk-estimator-doc-link:hover,\n",
       "div.sk-label-container:hover .sk-estimator-doc-link:hover,\n",
       ".sk-estimator-doc-link:hover {\n",
       "  /* unfitted */\n",
       "  background-color: var(--sklearn-color-unfitted-level-3);\n",
       "  color: var(--sklearn-color-background);\n",
       "  text-decoration: none;\n",
       "}\n",
       "\n",
       "div.sk-estimator.fitted:hover .sk-estimator-doc-link.fitted:hover,\n",
       ".sk-estimator-doc-link.fitted:hover,\n",
       "div.sk-label-container:hover .sk-estimator-doc-link.fitted:hover,\n",
       ".sk-estimator-doc-link.fitted:hover {\n",
       "  /* fitted */\n",
       "  background-color: var(--sklearn-color-fitted-level-3);\n",
       "  color: var(--sklearn-color-background);\n",
       "  text-decoration: none;\n",
       "}\n",
       "\n",
       "/* Span, style for the box shown on hovering the info icon */\n",
       ".sk-estimator-doc-link span {\n",
       "  display: none;\n",
       "  z-index: 9999;\n",
       "  position: relative;\n",
       "  font-weight: normal;\n",
       "  right: .2ex;\n",
       "  padding: .5ex;\n",
       "  margin: .5ex;\n",
       "  width: min-content;\n",
       "  min-width: 20ex;\n",
       "  max-width: 50ex;\n",
       "  color: var(--sklearn-color-text);\n",
       "  box-shadow: 2pt 2pt 4pt #999;\n",
       "  /* unfitted */\n",
       "  background: var(--sklearn-color-unfitted-level-0);\n",
       "  border: .5pt solid var(--sklearn-color-unfitted-level-3);\n",
       "}\n",
       "\n",
       ".sk-estimator-doc-link.fitted span {\n",
       "  /* fitted */\n",
       "  background: var(--sklearn-color-fitted-level-0);\n",
       "  border: var(--sklearn-color-fitted-level-3);\n",
       "}\n",
       "\n",
       ".sk-estimator-doc-link:hover span {\n",
       "  display: block;\n",
       "}\n",
       "\n",
       "/* \"?\"-specific style due to the `<a>` HTML tag */\n",
       "\n",
       "#sk-container-id-1 a.estimator_doc_link {\n",
       "  float: right;\n",
       "  font-size: 1rem;\n",
       "  line-height: 1em;\n",
       "  font-family: monospace;\n",
       "  background-color: var(--sklearn-color-background);\n",
       "  border-radius: 1rem;\n",
       "  height: 1rem;\n",
       "  width: 1rem;\n",
       "  text-decoration: none;\n",
       "  /* unfitted */\n",
       "  color: var(--sklearn-color-unfitted-level-1);\n",
       "  border: var(--sklearn-color-unfitted-level-1) 1pt solid;\n",
       "}\n",
       "\n",
       "#sk-container-id-1 a.estimator_doc_link.fitted {\n",
       "  /* fitted */\n",
       "  border: var(--sklearn-color-fitted-level-1) 1pt solid;\n",
       "  color: var(--sklearn-color-fitted-level-1);\n",
       "}\n",
       "\n",
       "/* On hover */\n",
       "#sk-container-id-1 a.estimator_doc_link:hover {\n",
       "  /* unfitted */\n",
       "  background-color: var(--sklearn-color-unfitted-level-3);\n",
       "  color: var(--sklearn-color-background);\n",
       "  text-decoration: none;\n",
       "}\n",
       "\n",
       "#sk-container-id-1 a.estimator_doc_link.fitted:hover {\n",
       "  /* fitted */\n",
       "  background-color: var(--sklearn-color-fitted-level-3);\n",
       "}\n",
       "</style><div id=\"sk-container-id-1\" class=\"sk-top-container\"><div class=\"sk-text-repr-fallback\"><pre>RandomizedSearchCV(cv=5,\n",
       "                   estimator=Pipeline(steps=[(&#x27;preprocessor&#x27;,\n",
       "                                              ColumnTransformer(transformers=[(&#x27;num&#x27;,\n",
       "                                                                               Pipeline(steps=[(&#x27;imputer&#x27;,\n",
       "                                                                                                SimpleImputer()),\n",
       "                                                                                               (&#x27;scaler&#x27;,\n",
       "                                                                                                StandardScaler())]),\n",
       "                                                                               [&#x27;total_charges&#x27;,\n",
       "                                                                                &#x27;duration&#x27;]),\n",
       "                                                                              (&#x27;cat&#x27;,\n",
       "                                                                               Pipeline(steps=[(&#x27;imputer&#x27;,\n",
       "                                                                                                SimpleImputer(strategy=&#x27;most_frequent&#x27;)),\n",
       "                                                                                               (&#x27;onehot&#x27;,\n",
       "                                                                                                OneHotEncoder(handle_unknown=&#x27;ignore&#x27;))]),\n",
       "                                                                               [&#x27;type&#x27;,\n",
       "                                                                                &#x27;paper...\n",
       "                                        {&#x27;classifier&#x27;: [LGBMClassifier(random_state=251124)],\n",
       "                                         &#x27;classifier__colsample_bytree&#x27;: [0.8,\n",
       "                                                                          1.0],\n",
       "                                         &#x27;classifier__learning_rate&#x27;: [0.01,\n",
       "                                                                       0.05,\n",
       "                                                                       0.1],\n",
       "                                         &#x27;classifier__max_depth&#x27;: [-1, 5, 10],\n",
       "                                         &#x27;classifier__min_child_samples&#x27;: [20,\n",
       "                                                                           30,\n",
       "                                                                           50],\n",
       "                                         &#x27;classifier__n_estimators&#x27;: [100, 200,\n",
       "                                                                      300],\n",
       "                                         &#x27;classifier__num_leaves&#x27;: [20, 31, 40],\n",
       "                                         &#x27;classifier__subsample&#x27;: [0.8, 1.0]}],\n",
       "                   random_state=251124, scoring=&#x27;roc_auc&#x27;)</pre><b>In a Jupyter environment, please rerun this cell to show the HTML representation or trust the notebook. <br />On GitHub, the HTML representation is unable to render, please try loading this page with nbviewer.org.</b></div><div class=\"sk-container\" hidden><div class=\"sk-item sk-dashed-wrapped\"><div class=\"sk-label-container\"><div class=\"sk-label fitted sk-toggleable\"><input class=\"sk-toggleable__control sk-hidden--visually\" id=\"sk-estimator-id-1\" type=\"checkbox\" ><label for=\"sk-estimator-id-1\" class=\"sk-toggleable__label fitted sk-toggleable__label-arrow fitted\">&nbsp;&nbsp;RandomizedSearchCV<a class=\"sk-estimator-doc-link fitted\" rel=\"noreferrer\" target=\"_blank\" href=\"https://scikit-learn.org/1.5/modules/generated/sklearn.model_selection.RandomizedSearchCV.html\">?<span>Documentation for RandomizedSearchCV</span></a><span class=\"sk-estimator-doc-link fitted\">i<span>Fitted</span></span></label><div class=\"sk-toggleable__content fitted\"><pre>RandomizedSearchCV(cv=5,\n",
       "                   estimator=Pipeline(steps=[(&#x27;preprocessor&#x27;,\n",
       "                                              ColumnTransformer(transformers=[(&#x27;num&#x27;,\n",
       "                                                                               Pipeline(steps=[(&#x27;imputer&#x27;,\n",
       "                                                                                                SimpleImputer()),\n",
       "                                                                                               (&#x27;scaler&#x27;,\n",
       "                                                                                                StandardScaler())]),\n",
       "                                                                               [&#x27;total_charges&#x27;,\n",
       "                                                                                &#x27;duration&#x27;]),\n",
       "                                                                              (&#x27;cat&#x27;,\n",
       "                                                                               Pipeline(steps=[(&#x27;imputer&#x27;,\n",
       "                                                                                                SimpleImputer(strategy=&#x27;most_frequent&#x27;)),\n",
       "                                                                                               (&#x27;onehot&#x27;,\n",
       "                                                                                                OneHotEncoder(handle_unknown=&#x27;ignore&#x27;))]),\n",
       "                                                                               [&#x27;type&#x27;,\n",
       "                                                                                &#x27;paper...\n",
       "                                        {&#x27;classifier&#x27;: [LGBMClassifier(random_state=251124)],\n",
       "                                         &#x27;classifier__colsample_bytree&#x27;: [0.8,\n",
       "                                                                          1.0],\n",
       "                                         &#x27;classifier__learning_rate&#x27;: [0.01,\n",
       "                                                                       0.05,\n",
       "                                                                       0.1],\n",
       "                                         &#x27;classifier__max_depth&#x27;: [-1, 5, 10],\n",
       "                                         &#x27;classifier__min_child_samples&#x27;: [20,\n",
       "                                                                           30,\n",
       "                                                                           50],\n",
       "                                         &#x27;classifier__n_estimators&#x27;: [100, 200,\n",
       "                                                                      300],\n",
       "                                         &#x27;classifier__num_leaves&#x27;: [20, 31, 40],\n",
       "                                         &#x27;classifier__subsample&#x27;: [0.8, 1.0]}],\n",
       "                   random_state=251124, scoring=&#x27;roc_auc&#x27;)</pre></div> </div></div><div class=\"sk-parallel\"><div class=\"sk-parallel-item\"><div class=\"sk-item\"><div class=\"sk-label-container\"><div class=\"sk-label fitted sk-toggleable\"><input class=\"sk-toggleable__control sk-hidden--visually\" id=\"sk-estimator-id-2\" type=\"checkbox\" ><label for=\"sk-estimator-id-2\" class=\"sk-toggleable__label fitted sk-toggleable__label-arrow fitted\">best_estimator_: Pipeline</label><div class=\"sk-toggleable__content fitted\"><pre>Pipeline(steps=[(&#x27;preprocessor&#x27;,\n",
       "                 ColumnTransformer(transformers=[(&#x27;num&#x27;,\n",
       "                                                  Pipeline(steps=[(&#x27;imputer&#x27;,\n",
       "                                                                   SimpleImputer()),\n",
       "                                                                  (&#x27;scaler&#x27;,\n",
       "                                                                   StandardScaler())]),\n",
       "                                                  [&#x27;total_charges&#x27;,\n",
       "                                                   &#x27;duration&#x27;]),\n",
       "                                                 (&#x27;cat&#x27;,\n",
       "                                                  Pipeline(steps=[(&#x27;imputer&#x27;,\n",
       "                                                                   SimpleImputer(strategy=&#x27;most_frequent&#x27;)),\n",
       "                                                                  (&#x27;onehot&#x27;,\n",
       "                                                                   OneHotEncoder(handle_unknown=&#x27;ignore&#x27;))]),\n",
       "                                                  [&#x27;type&#x27;, &#x27;paperless_billing&#x27;,\n",
       "                                                   &#x27;payment_method&#x27;,\n",
       "                                                   &#x27;senior_citizen&#x27;, &#x27;partner&#x27;,\n",
       "                                                   &#x27;dependents&#x27;,\n",
       "                                                   &#x27;internet_service&#x27;,\n",
       "                                                   &#x27;online_security&#x27;,\n",
       "                                                   &#x27;online_backup&#x27;,\n",
       "                                                   &#x27;device_protection&#x27;,\n",
       "                                                   &#x27;tech_support&#x27;,\n",
       "                                                   &#x27;streaming_tv&#x27;,\n",
       "                                                   &#x27;streaming_movies&#x27;,\n",
       "                                                   &#x27;multiple_lines&#x27;])])),\n",
       "                (&#x27;classifier&#x27;,\n",
       "                 LGBMClassifier(colsample_bytree=0.8, learning_rate=0.05,\n",
       "                                max_depth=5, min_child_samples=30,\n",
       "                                n_estimators=300, num_leaves=20,\n",
       "                                random_state=251124))])</pre></div> </div></div><div class=\"sk-serial\"><div class=\"sk-item\"><div class=\"sk-serial\"><div class=\"sk-item sk-dashed-wrapped\"><div class=\"sk-label-container\"><div class=\"sk-label fitted sk-toggleable\"><input class=\"sk-toggleable__control sk-hidden--visually\" id=\"sk-estimator-id-3\" type=\"checkbox\" ><label for=\"sk-estimator-id-3\" class=\"sk-toggleable__label fitted sk-toggleable__label-arrow fitted\">&nbsp;preprocessor: ColumnTransformer<a class=\"sk-estimator-doc-link fitted\" rel=\"noreferrer\" target=\"_blank\" href=\"https://scikit-learn.org/1.5/modules/generated/sklearn.compose.ColumnTransformer.html\">?<span>Documentation for preprocessor: ColumnTransformer</span></a></label><div class=\"sk-toggleable__content fitted\"><pre>ColumnTransformer(transformers=[(&#x27;num&#x27;,\n",
       "                                 Pipeline(steps=[(&#x27;imputer&#x27;, SimpleImputer()),\n",
       "                                                 (&#x27;scaler&#x27;, StandardScaler())]),\n",
       "                                 [&#x27;total_charges&#x27;, &#x27;duration&#x27;]),\n",
       "                                (&#x27;cat&#x27;,\n",
       "                                 Pipeline(steps=[(&#x27;imputer&#x27;,\n",
       "                                                  SimpleImputer(strategy=&#x27;most_frequent&#x27;)),\n",
       "                                                 (&#x27;onehot&#x27;,\n",
       "                                                  OneHotEncoder(handle_unknown=&#x27;ignore&#x27;))]),\n",
       "                                 [&#x27;type&#x27;, &#x27;paperless_billing&#x27;, &#x27;payment_method&#x27;,\n",
       "                                  &#x27;senior_citizen&#x27;, &#x27;partner&#x27;, &#x27;dependents&#x27;,\n",
       "                                  &#x27;internet_service&#x27;, &#x27;online_security&#x27;,\n",
       "                                  &#x27;online_backup&#x27;, &#x27;device_protection&#x27;,\n",
       "                                  &#x27;tech_support&#x27;, &#x27;streaming_tv&#x27;,\n",
       "                                  &#x27;streaming_movies&#x27;, &#x27;multiple_lines&#x27;])])</pre></div> </div></div><div class=\"sk-parallel\"><div class=\"sk-parallel-item\"><div class=\"sk-item\"><div class=\"sk-label-container\"><div class=\"sk-label fitted sk-toggleable\"><input class=\"sk-toggleable__control sk-hidden--visually\" id=\"sk-estimator-id-4\" type=\"checkbox\" ><label for=\"sk-estimator-id-4\" class=\"sk-toggleable__label fitted sk-toggleable__label-arrow fitted\">num</label><div class=\"sk-toggleable__content fitted\"><pre>[&#x27;total_charges&#x27;, &#x27;duration&#x27;]</pre></div> </div></div><div class=\"sk-serial\"><div class=\"sk-item\"><div class=\"sk-serial\"><div class=\"sk-item\"><div class=\"sk-estimator fitted sk-toggleable\"><input class=\"sk-toggleable__control sk-hidden--visually\" id=\"sk-estimator-id-5\" type=\"checkbox\" ><label for=\"sk-estimator-id-5\" class=\"sk-toggleable__label fitted sk-toggleable__label-arrow fitted\">&nbsp;SimpleImputer<a class=\"sk-estimator-doc-link fitted\" rel=\"noreferrer\" target=\"_blank\" href=\"https://scikit-learn.org/1.5/modules/generated/sklearn.impute.SimpleImputer.html\">?<span>Documentation for SimpleImputer</span></a></label><div class=\"sk-toggleable__content fitted\"><pre>SimpleImputer()</pre></div> </div></div><div class=\"sk-item\"><div class=\"sk-estimator fitted sk-toggleable\"><input class=\"sk-toggleable__control sk-hidden--visually\" id=\"sk-estimator-id-6\" type=\"checkbox\" ><label for=\"sk-estimator-id-6\" class=\"sk-toggleable__label fitted sk-toggleable__label-arrow fitted\">&nbsp;StandardScaler<a class=\"sk-estimator-doc-link fitted\" rel=\"noreferrer\" target=\"_blank\" href=\"https://scikit-learn.org/1.5/modules/generated/sklearn.preprocessing.StandardScaler.html\">?<span>Documentation for StandardScaler</span></a></label><div class=\"sk-toggleable__content fitted\"><pre>StandardScaler()</pre></div> </div></div></div></div></div></div></div><div class=\"sk-parallel-item\"><div class=\"sk-item\"><div class=\"sk-label-container\"><div class=\"sk-label fitted sk-toggleable\"><input class=\"sk-toggleable__control sk-hidden--visually\" id=\"sk-estimator-id-7\" type=\"checkbox\" ><label for=\"sk-estimator-id-7\" class=\"sk-toggleable__label fitted sk-toggleable__label-arrow fitted\">cat</label><div class=\"sk-toggleable__content fitted\"><pre>[&#x27;type&#x27;, &#x27;paperless_billing&#x27;, &#x27;payment_method&#x27;, &#x27;senior_citizen&#x27;, &#x27;partner&#x27;, &#x27;dependents&#x27;, &#x27;internet_service&#x27;, &#x27;online_security&#x27;, &#x27;online_backup&#x27;, &#x27;device_protection&#x27;, &#x27;tech_support&#x27;, &#x27;streaming_tv&#x27;, &#x27;streaming_movies&#x27;, &#x27;multiple_lines&#x27;]</pre></div> </div></div><div class=\"sk-serial\"><div class=\"sk-item\"><div class=\"sk-serial\"><div class=\"sk-item\"><div class=\"sk-estimator fitted sk-toggleable\"><input class=\"sk-toggleable__control sk-hidden--visually\" id=\"sk-estimator-id-8\" type=\"checkbox\" ><label for=\"sk-estimator-id-8\" class=\"sk-toggleable__label fitted sk-toggleable__label-arrow fitted\">&nbsp;SimpleImputer<a class=\"sk-estimator-doc-link fitted\" rel=\"noreferrer\" target=\"_blank\" href=\"https://scikit-learn.org/1.5/modules/generated/sklearn.impute.SimpleImputer.html\">?<span>Documentation for SimpleImputer</span></a></label><div class=\"sk-toggleable__content fitted\"><pre>SimpleImputer(strategy=&#x27;most_frequent&#x27;)</pre></div> </div></div><div class=\"sk-item\"><div class=\"sk-estimator fitted sk-toggleable\"><input class=\"sk-toggleable__control sk-hidden--visually\" id=\"sk-estimator-id-9\" type=\"checkbox\" ><label for=\"sk-estimator-id-9\" class=\"sk-toggleable__label fitted sk-toggleable__label-arrow fitted\">&nbsp;OneHotEncoder<a class=\"sk-estimator-doc-link fitted\" rel=\"noreferrer\" target=\"_blank\" href=\"https://scikit-learn.org/1.5/modules/generated/sklearn.preprocessing.OneHotEncoder.html\">?<span>Documentation for OneHotEncoder</span></a></label><div class=\"sk-toggleable__content fitted\"><pre>OneHotEncoder(handle_unknown=&#x27;ignore&#x27;)</pre></div> </div></div></div></div></div></div></div></div></div><div class=\"sk-item\"><div class=\"sk-estimator fitted sk-toggleable\"><input class=\"sk-toggleable__control sk-hidden--visually\" id=\"sk-estimator-id-10\" type=\"checkbox\" ><label for=\"sk-estimator-id-10\" class=\"sk-toggleable__label fitted sk-toggleable__label-arrow fitted\">LGBMClassifier</label><div class=\"sk-toggleable__content fitted\"><pre>LGBMClassifier(colsample_bytree=0.8, learning_rate=0.05, max_depth=5,\n",
       "               min_child_samples=30, n_estimators=300, num_leaves=20,\n",
       "               random_state=251124)</pre></div> </div></div></div></div></div></div></div></div></div></div></div>"
      ],
      "text/plain": [
       "RandomizedSearchCV(cv=5,\n",
       "                   estimator=Pipeline(steps=[('preprocessor',\n",
       "                                              ColumnTransformer(transformers=[('num',\n",
       "                                                                               Pipeline(steps=[('imputer',\n",
       "                                                                                                SimpleImputer()),\n",
       "                                                                                               ('scaler',\n",
       "                                                                                                StandardScaler())]),\n",
       "                                                                               ['total_charges',\n",
       "                                                                                'duration']),\n",
       "                                                                              ('cat',\n",
       "                                                                               Pipeline(steps=[('imputer',\n",
       "                                                                                                SimpleImputer(strategy='most_frequent')),\n",
       "                                                                                               ('onehot',\n",
       "                                                                                                OneHotEncoder(handle_unknown='ignore'))]),\n",
       "                                                                               ['type',\n",
       "                                                                                'paper...\n",
       "                                        {'classifier': [LGBMClassifier(random_state=251124)],\n",
       "                                         'classifier__colsample_bytree': [0.8,\n",
       "                                                                          1.0],\n",
       "                                         'classifier__learning_rate': [0.01,\n",
       "                                                                       0.05,\n",
       "                                                                       0.1],\n",
       "                                         'classifier__max_depth': [-1, 5, 10],\n",
       "                                         'classifier__min_child_samples': [20,\n",
       "                                                                           30,\n",
       "                                                                           50],\n",
       "                                         'classifier__n_estimators': [100, 200,\n",
       "                                                                      300],\n",
       "                                         'classifier__num_leaves': [20, 31, 40],\n",
       "                                         'classifier__subsample': [0.8, 1.0]}],\n",
       "                   random_state=251124, scoring='roc_auc')"
      ]
     },
     "execution_count": 154,
     "metadata": {},
     "output_type": "execute_result"
    }
   ],
   "source": [
    "randomized_search = RandomizedSearchCV(\n",
    "    pipe_final, \n",
    "    param_grid, \n",
    "    cv=5,\n",
    "    scoring='roc_auc',\n",
    "    random_state=RANDOM_STATE,\n",
    "    n_jobs=-1\n",
    ")\n",
    "\n",
    "\n",
    "randomized_search.fit(X_train, y_train)"
   ]
  },
  {
   "cell_type": "markdown",
   "id": "18d166b6-3f31-4384-b577-10958c352827",
   "metadata": {},
   "source": [
    "### Analysis of the Best Model and Metrics on the Validation Set"
   ]
  },
  {
   "cell_type": "code",
   "execution_count": 156,
   "id": "27a2fd2d-de64-42b6-9fcf-2ceb7b00b509",
   "metadata": {},
   "outputs": [
    {
     "name": "stdout",
     "output_type": "stream",
     "text": [
      "Best Model and Its Parameters:\n",
      "\n",
      " Pipeline(steps=[('preprocessor',\n",
      "                 ColumnTransformer(transformers=[('num',\n",
      "                                                  Pipeline(steps=[('imputer',\n",
      "                                                                   SimpleImputer()),\n",
      "                                                                  ('scaler',\n",
      "                                                                   StandardScaler())]),\n",
      "                                                  ['total_charges',\n",
      "                                                   'duration']),\n",
      "                                                 ('cat',\n",
      "                                                  Pipeline(steps=[('imputer',\n",
      "                                                                   SimpleImputer(strategy='most_frequent')),\n",
      "                                                                  ('onehot',\n",
      "                                                                   OneHotEncoder(handle_unknown='ignore'))]),\n",
      "                                                  ['type', 'paperless_billing',\n",
      "                                                   'payment_method',\n",
      "                                                   'senior_citizen', 'partner',\n",
      "                                                   'dependents',\n",
      "                                                   'internet_service',\n",
      "                                                   'online_security',\n",
      "                                                   'online_backup',\n",
      "                                                   'device_protection',\n",
      "                                                   'tech_support',\n",
      "                                                   'streaming_tv',\n",
      "                                                   'streaming_movies',\n",
      "                                                   'multiple_lines'])])),\n",
      "                ('classifier',\n",
      "                 LGBMClassifier(colsample_bytree=0.8, learning_rate=0.05,\n",
      "                                max_depth=5, min_child_samples=30,\n",
      "                                n_estimators=300, num_leaves=20,\n",
      "                                random_state=251124))])\n"
     ]
    }
   ],
   "source": [
    "print('Best Model and Its Parameters:\\n\\n', randomized_search.best_estimator_) "
   ]
  },
  {
   "cell_type": "code",
   "execution_count": 157,
   "id": "39dbf094-bd8b-4c1e-9616-5ca5e43c8488",
   "metadata": {},
   "outputs": [
    {
     "name": "stdout",
     "output_type": "stream",
     "text": [
      "ROC-AUC for the best model:\n",
      " 0.8731331091828199\n"
     ]
    }
   ],
   "source": [
    "print('ROC-AUC for the best model:\\n', randomized_search.best_score_)"
   ]
  },
  {
   "cell_type": "markdown",
   "id": "982a261a-3b68-4d58-b061-d3bd43024aca",
   "metadata": {},
   "source": [
    "The ROC-AUC metric for the best model was **0.87**, indicating a good ability of the model to distinguish between classes (churn and active customers).  \n",
    "The **LGBMClassifier** was selected as the optimal model because it demonstrated the best performance on the ROC-AUC metric during hyperparameter tuning"
   ]
  },
  {
   "cell_type": "markdown",
   "id": "4d3c4431-eb1b-4894-9bd5-ab242d5ec365",
   "metadata": {},
   "source": [
    "### Testing the model on the test set."
   ]
  },
  {
   "cell_type": "code",
   "execution_count": 160,
   "id": "c9589d4c-1a66-48a4-b1b0-da0181e2ae0d",
   "metadata": {},
   "outputs": [
    {
     "name": "stdout",
     "output_type": "stream",
     "text": [
      "ROC AUC Score: 0.902\n"
     ]
    }
   ],
   "source": [
    "# saving the best model \n",
    "best_model = randomized_search.best_estimator_\n",
    "#predict on test set \n",
    "y_test_proba = best_model.predict_proba(X_test)[:, 1]\n",
    "\n",
    "#calculate metric \n",
    "roc_auc = roc_auc_score(y_test, y_test_proba)\n",
    "print(f'ROC AUC Score: {roc_auc:.3f}')"
   ]
  },
  {
   "cell_type": "markdown",
   "id": "2d96cbcd-bb59-4a06-990f-3fd0da7b1521",
   "metadata": {},
   "source": [
    "- The **LGBMClassifier** model achieved the best result on the test set, reaching an ROC-AUC score of **0.902**.  \n",
    "- The use of this algorithm allowed for capturing nonlinear relationships between features and efficiently processing the data, resulting in improved prediction quality."
   ]
  },
  {
   "cell_type": "markdown",
   "id": "17fb9cb6-ef24-4be6-87cf-f383df51f2c5",
   "metadata": {},
   "source": [
    "## Analysis of Model Performance"
   ]
  },
  {
   "cell_type": "markdown",
   "id": "84bfeb48-5754-4e75-aa3f-b63ce310fc3f",
   "metadata": {},
   "source": [
    "### Feature Importance Analysis"
   ]
  },
  {
   "cell_type": "markdown",
   "id": "359752c3-64e9-481b-abcc-5bc651d52bed",
   "metadata": {},
   "source": [
    "We will evaluate feature importance for the best model and create a feature importance plot using the SHAP method."
   ]
  },
  {
   "cell_type": "code",
   "execution_count": 165,
   "id": "b7211dc2-ad68-4ea2-877f-bb5c833094ea",
   "metadata": {},
   "outputs": [
    {
     "data": {
      "image/png": "[encoded data removed]",
      "text/plain": [
       "<Figure size 800x550 with 1 Axes>"
      ]
     },
     "metadata": {},
     "output_type": "display_data"
    }
   ],
   "source": [
    "# Save the processing steps into separate variables.\n",
    "model = randomized_search.best_estimator_.named_steps['classifier']\n",
    "preprocessor = randomized_search.best_estimator_.named_steps['preprocessor']\n",
    "\n",
    "# Process the training and test sets using the pipeline.\n",
    "X_train_preprocessed = preprocessor.transform(X_train)\n",
    "X_test_preprocessed = preprocessor.transform(X_test)\n",
    "\n",
    "# initiate SHAP \n",
    "explainer = shap.Explainer(model, X_train_preprocessed)\n",
    "shap_values = explainer.shap_values(X_test_preprocessed, check_additivity=False)\n",
    "\n",
    "# create the SHAP feature importance plot\n",
    "fig, ax = plt.subplots(figsize=(10, 10))\n",
    "shap.summary_plot(shap_values, X_test_preprocessed, \n",
    "                  feature_names=preprocessor.get_feature_names_out(), \n",
    "                  plot_type=\"bar\", max_display=10, show=False)\n",
    "ax.set_title(\"SHAP\")\n",
    "ax.set_xlabel(\"Feature Importance\")\n",
    "ax.set_ylabel(\"Features\")\n",
    "plt.show()"
   ]
  },
  {
   "cell_type": "markdown",
   "id": "810ed7a1-ab40-4bc9-af4b-31046eb4eb0a",
   "metadata": {},
   "source": [
    "Based on the SHAP feature importance plot, the following conclusions can be drawn:\n",
    "\n",
    "- **`duration` (contract duration)**:  \n",
    "  This feature has the greatest influence on the model's prediction. Contract duration is a key indicator of whether a customer will stay or leave, as long-term customers are less likely to churn.\n",
    "\n",
    "- **`Month-to-month` (contract type - month-to-month)**:  \n",
    "  Customers with month-to-month contracts significantly impact churn predictions, as these customers have more flexibility and can quickly discontinue services.\n",
    "\n",
    "- **`multiple_lines_Yes` and `multiple_lines_No`**:  \n",
    "  The presence of multiple phone lines also has a strong influence. Customers with multiple lines are typically more engaged with the company’s services, reducing their likelihood of churn.\n",
    "\n",
    "- **`total_charges`**:  \n",
    "  The total customer expenditure is important, as it reflects their level of engagement with the service.\n",
    "\n",
    "- **`Two year` (contract type - two years)**:  \n",
    "  Two-year contracts have noticeable influence, as long-term contracts generally indicate higher loyalty.\n",
    "\n",
    "- **`cat__partner_Yes` and `cat__partner_No`**:  \n",
    "  Having a spouse or partner also impacts churn. This may be because customers with a partner are more likely to stay, possibly due to shared family interests.\n",
    "\n",
    "- **`device_protection_No` and `online_backup_No`**:  \n",
    "  The absence of device protection or backup services is associated with higher churn likelihood, possibly due to lower customer engagement with additional services.\n",
    "\n",
    "---\n",
    "\n",
    "### **Conclusion**\n",
    "\n",
    "Key features influencing customer churn are associated with:  \n",
    "- **Contract type and duration.**  \n",
    "- **Additional services**, such as multiple lines, device protection, and backup services.  \n",
    "- **Personal characteristics**, such as having a partner.  "
   ]
  },
  {
   "cell_type": "markdown",
   "id": "65ebc9b9-4582-4cc3-a817-db7c2d2df9f7",
   "metadata": {},
   "source": [
    "### Confusion Matrix "
   ]
  },
  {
   "cell_type": "code",
   "execution_count": 168,
   "id": "6deb4d66-94ae-4aff-b351-a576401cca96",
   "metadata": {},
   "outputs": [
    {
     "name": "stdout",
     "output_type": "stream",
     "text": [
      "Confusion Matrix:\n",
      "      0    1\n",
      "0  1449   33\n",
      "1   152  123\n"
     ]
    }
   ],
   "source": [
    "y_test_pred = best_model.predict(X_test)\n",
    "cm = confusion_matrix(y_test, y_test_pred)\n",
    "cm_df = pd.DataFrame(cm, index=np.unique(y_test), columns=np.unique(y_test))\n",
    "\n",
    "print(\"Confusion Matrix:\")\n",
    "print(cm_df)\n"
   ]
  },
  {
   "cell_type": "markdown",
   "id": "f7ec1393-2f61-403e-8461-84d16f6be91e",
   "metadata": {},
   "source": [
    "**Key Findings:**\n",
    "\n",
    "- The class \"Contract Termination\" (`churn = 1`) is much less common than \"Did Not Terminate\" (`churn = 0`).  \n",
    "- This imbalance is likely due to a significant class imbalance in the training set, where the majority of data belongs to class `0` (as mentioned earlier).  \n",
    "- The **False Negatives** indicate that the model underestimates the likelihood of churn (`churn = 1`).  "
   ]
  },
  {
   "cell_type": "markdown",
   "id": "f424e4d9-0c65-4a4d-a001-48ce58e20597",
   "metadata": {},
   "source": [
    "## Final Conclusions of the Project"
   ]
  },
  {
   "cell_type": "markdown",
   "id": "bc00f915-31f9-4729-958c-54a31b32f75f",
   "metadata": {},
   "source": [
    "### Steps Taken "
   ]
  },
  {
   "cell_type": "markdown",
   "id": "c26511d4-3fd5-4b3e-8a8d-b0ae6476b7a5",
   "metadata": {},
   "source": [
    "**The following steps were performed in the project:**\n",
    "- Loading, exploring, and merging data from different datasets.\n",
    "- Handling missing values and performing exploratory data analysis (correlation).\n",
    "- Creating a pipeline for data preprocessing and model training.\n",
    "- Conducting hyperparameter tuning using `RandomizedSearchCV`.\n",
    "- Building and analyzing the **RandomForestClassifier** model.\n",
    "- Evaluating model quality using the **ROC-AUC** metric.\n",
    "- Analyzing feature importance using SHAP and reviewing model performance through a confusion matrix.\n",
    "\n",
    "---\n",
    "\n",
    "**Uncompleted Points:**\n",
    "\n",
    "**Class Imbalance:**\n",
    "  - **Issue**: The model rarely predicted the class `churn = 1`.\n",
    "\n",
    "---\n",
    "\n",
    "**Challenges Encountered During the Project:**\n",
    "\n",
    "- **Missing Values:**\n",
    "  - **Issue**: The `total_charges` feature contained missing values.\n",
    "  - **Solution**: Filled missing values with data from `monthly_charges`.\n",
    "\n",
    "- **Low Initial Performance**:\n",
    "  - **Issue**: The model showed insufficient accuracy in the first attempts (ROC-AUC = 0.74, 0.82).\n",
    "  - **Solution**: Adjusted hyperparameters and incorporated additional models.\n",
    "\n",
    "---\n",
    "\n",
    "**Key Steps in Solving the Problem**\n",
    "\n",
    "1. **Preliminary Data Processing**:\n",
    "   - Handling missing values and selecting numerical/categorical features.\n",
    "   - Creating new features, including the target feature.\n",
    "\n",
    "2. **Model Setup**:\n",
    "   - Conducting hyperparameter tuning to select the best model.\n",
    "   - Selecting additional models for comparison.\n",
    "\n",
    "3. **Model Interpretation**:\n",
    "   - Using SHAP for feature importance analysis.\n",
    "   - Addressing class imbalance through a confusion matrix.\n",
    "\n",
    "---\n",
    "\n",
    "**Final Model**\n",
    "\n",
    "- **Final Model**:  \n",
    "  - **LGBMClassifier**  \n",
    "\n",
    "- **Hyperparameters**:  \n",
    "  - `learning_rate=0.05`\n",
    "  - `max_depth=5`\n",
    "  - `min_child_samples=30`\n",
    "  - `n_estimators=300`\n",
    "  - `num_leaves=20`\n",
    "\n",
    "- **Performance**:  \n",
    "  - **ROC-AUC** on the test set: **0.902**.\n",
    "\n",
    "---\n",
    "\n",
    "**Features Used for Training the Best Model**\n",
    "\n",
    "1. **Numerical Features**:\n",
    "   - `total_charges`: Missing values were filled with data from `monthly_charges` and scaled.\n",
    "   - `duration`: Created from `begin_date` and `end_date`, then scaled.\n",
    "   - `monthly_charges`: Removed after merging due to strong correlation with `total_charges`.\n",
    "\n",
    "2. **Categorical Features**:\n",
    "   - `churn`: Target feature created from `end_date`.\n",
    "   - `type`: OneHotEncoded.\n",
    "   - `paperless_billing`: OneHotEncoded.\n",
    "   - `payment_method`: OneHotEncoded.\n",
    "   - `senior_citizen`: Encoded as `Yes/No` and then OneHotEncoded.\n",
    "   - `partner`: OneHotEncoded.\n",
    "   - `dependents`: OneHotEncoded.\n",
    "   - Internet services: `internet_service`, `online_security`, `online_backup`, `device_protection`, `tech_support`, `streaming_tv`, `streaming_movies`—all OneHotEncoded.\n",
    "   - Telephony services: `multiple_lines`—OneHotEncoded.\n",
    "\n",
    "---\n",
    "\n",
    "**Conclusion**\n",
    "\n",
    "The final **RandomForestClassifier** model achieved a ROC-AUC of **0.807**, which is a good result for the task of predicting customer churn. Using SHAP, we identified key features such as contract duration and payment type, which have the greatest influence on the model's decisions.\n",
    "\n",
    "---\n",
    "\n",
    "**Further Actions to Improve Model Quality:**\n",
    "- Address class imbalance (e.g., using SMOTE).\n",
    "- Create additional features.\n",
    "- Experiment with other algorithms (e.g., CatBoost, LightGBM).\n",
    "- Test on new data.\n",
    "- Optimize the target metric."
   ]
  },
  {
   "cell_type": "markdown",
   "id": "a70e2090-198b-4aa6-8875-133f8699c0d4",
   "metadata": {},
   "source": [
    "### Business Recommendations"
   ]
  },
  {
   "cell_type": "markdown",
   "id": "637f0a98-32b5-4df4-94d0-e800757ffc73",
   "metadata": {},
   "source": [
    "**Recommendations for Customer Management**\n",
    "\n",
    "1. **Segmentation of High-Risk Customers**:\n",
    "   - Use the model to identify customers with a high likelihood of churn.\n",
    "   - Proactively target these customers with special offers or incentives.\n",
    "\n",
    "2. **Customer Retention Programs**:\n",
    "   - **Personalized Promo Codes and Discounts**:\n",
    "     - For customers with short contract durations (`duration`) and monthly payment types (`type = \"Month-to-month\"`), offer discounts for contract renewal or transitioning to more cost-effective annual plans.\n",
    "   - **Enhancement of Internet Services**:\n",
    "     - Customers without enabled options like `OnlineSecurity`, `DeviceProtection`, or `TechSupport` are at higher risk of churn. Offer free trials or special promotions for these services to boost engagement.\n",
    "\n",
    "3. **Customer Behavior Analysis**:\n",
    "   - Customers who use additional services, such as `StreamingTV` or `StreamingMovies`, are less likely to churn.\n",
    "   - Promote these services more actively among customers who do not currently use them.\n",
    "\n",
    "4. **Optimization of Tariffs**:\n",
    "   - Customers with high monthly charges (`total_charges / duration`) may be cost-sensitive.\n",
    "   - Offer these customers packages with more favorable terms to reduce churn risk.\n",
    "\n",
    "5. **Improvement of Technical Support**:\n",
    "   - Customers without `TechSupport` are more likely to terminate their contracts.\n",
    "   - Analyze how enhancing technical support can reduce churn and improve customer satisfaction.\n",
    "\n",
    "---\n",
    "\n",
    "**Expected Results**:\n",
    "- Reduced customer churn through timely risk management.\n",
    "- Increased customer loyalty through personalized offers.\n",
    "- Higher revenue by lowering the costs of acquiring new customers and retaining existing ones.\n",
    "\n",
    "These recommendations will help \"TeleDom\" not only effectively combat churn but also improve customer service quality, creating a competitive advantage in the market."
   ]
  }
 ],
 "metadata": {
  "ExecuteTimeLog": [
   {
    "duration": 1390,
    "start_time": "2024-11-29T06:32:21.635Z"
   },
   {
    "duration": 597,
    "start_time": "2024-11-29T06:33:29.724Z"
   }
  ],
  "kernelspec": {
   "display_name": "Python 3 (ipykernel)",
   "language": "python",
   "name": "python3"
  },
  "language_info": {
   "codemirror_mode": {
    "name": "ipython",
    "version": 3
   },
   "file_extension": ".py",
   "mimetype": "text/x-python",
   "name": "python",
   "nbconvert_exporter": "python",
   "pygments_lexer": "ipython3",
   "version": "3.11.7"
  },
  "toc": {
   "base_numbering": 1,
   "nav_menu": {},
   "number_sections": true,
   "sideBar": true,
   "skip_h1_title": true,
   "title_cell": "Table of Contents",
   "title_sidebar": "Contents",
   "toc_cell": false,
   "toc_position": {},
   "toc_section_display": true,
   "toc_window_display": false
  }
 },
 "nbformat": 4,
 "nbformat_minor": 5
}
